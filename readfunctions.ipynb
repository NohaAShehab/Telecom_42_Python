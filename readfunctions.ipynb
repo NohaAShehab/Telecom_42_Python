{
 "cells": [
  {
   "cell_type": "code",
   "execution_count": 1,
   "metadata": {
    "collapsed": true
   },
   "outputs": [
    {
     "data": {
      "text/plain": "'file operations\\n1- open the file\\n    open(filename, mode)\\n    # mode ---> read  ---> r\\n    # mode ---> write --> w\\n    # append to the file --> append --> a  \\n2- do the task I need \\n    read()\\n    write()\\n3- close file \\n    close\\n'"
     },
     "execution_count": 1,
     "metadata": {},
     "output_type": "execute_result"
    }
   ],
   "source": [
    "'''file operations\n",
    "1- open the file\n",
    "    open(filename, mode)\n",
    "    # mode ---> read  ---> r\n",
    "    # mode ---> write --> w\n",
    "    # append to the file --> append --> a\n",
    "2- do the task I need\n",
    "    read()\n",
    "    write()\n",
    "3- close file\n",
    "    close\n",
    "'''"
   ]
  },
  {
   "cell_type": "code",
   "execution_count": 3,
   "outputs": [
    {
     "ename": "FileNotFoundError",
     "evalue": "[Errno 2] No such file or directory: 'names.txt'",
     "output_type": "error",
     "traceback": [
      "\u001B[0;31m---------------------------------------------------------------------------\u001B[0m",
      "\u001B[0;31mFileNotFoundError\u001B[0m                         Traceback (most recent call last)",
      "Input \u001B[0;32mIn [3]\u001B[0m, in \u001B[0;36m<cell line: 2>\u001B[0;34m()\u001B[0m\n\u001B[1;32m      1\u001B[0m \u001B[38;5;124m'\u001B[39m\u001B[38;5;124m1- open file for read\u001B[39m\u001B[38;5;124m'\u001B[39m\n\u001B[0;32m----> 2\u001B[0m readfile \u001B[38;5;241m=\u001B[39m\u001B[38;5;28;43mopen\u001B[39;49m\u001B[43m(\u001B[49m\u001B[38;5;124;43m\"\u001B[39;49m\u001B[38;5;124;43mnames.txt\u001B[39;49m\u001B[38;5;124;43m\"\u001B[39;49m\u001B[43m,\u001B[49m\u001B[43m \u001B[49m\u001B[38;5;124;43m\"\u001B[39;49m\u001B[38;5;124;43mr\u001B[39;49m\u001B[38;5;124;43m\"\u001B[39;49m\u001B[43m)\u001B[49m\n\u001B[1;32m      3\u001B[0m \u001B[38;5;28mprint\u001B[39m(\u001B[38;5;124m\"\u001B[39m\u001B[38;5;124mhiiiii\u001B[39m\u001B[38;5;124m\"\u001B[39m)\n",
      "\u001B[0;31mFileNotFoundError\u001B[0m: [Errno 2] No such file or directory: 'names.txt'"
     ]
    }
   ],
   "source": [
    "'1- open file for read'\n",
    "readfile =open(\"names.txt\", \"r\")\n",
    "print(\"hiiiii\")"
   ],
   "metadata": {
    "collapsed": false,
    "pycharm": {
     "name": "#%%\n"
    }
   }
  },
  {
   "cell_type": "code",
   "execution_count": 5,
   "outputs": [
    {
     "name": "stdout",
     "output_type": "stream",
     "text": [
      "[Errno 2] No such file or directory: 'names.txt'\n",
      "--------this is my msg------\n"
     ]
    }
   ],
   "source": [
    "try:\n",
    "    '1- open file for read'\n",
    "    readfile =open(\"names.txt\", \"r\")\n",
    "except Exception as e:\n",
    "    print(e)\n",
    "else:\n",
    "    print(readfile)\n",
    "\n",
    "print(\"--------this is my msg------\")"
   ],
   "metadata": {
    "collapsed": false,
    "pycharm": {
     "name": "#%%\n"
    }
   }
  },
  {
   "cell_type": "code",
   "execution_count": 6,
   "outputs": [
    {
     "name": "stdout",
     "output_type": "stream",
     "text": [
      "<_io.TextIOWrapper name='names.txt' mode='r' encoding='UTF-8'>\n",
      "<class '_io.TextIOWrapper'>\n"
     ]
    }
   ],
   "source": [
    "try:\n",
    "    '1- open file for read'\n",
    "    readfile =open(\"names.txt\", \"r\")\n",
    "except Exception as e:\n",
    "    print(e)\n",
    "else:\n",
    "    print(readfile)\n",
    "    print(type(readfile))"
   ],
   "metadata": {
    "collapsed": false,
    "pycharm": {
     "name": "#%%\n"
    }
   }
  },
  {
   "cell_type": "code",
   "execution_count": 8,
   "outputs": [
    {
     "name": "stdout",
     "output_type": "stream",
     "text": [
      "<class 'str'>\n",
      "Ahmed\n",
      "Mohamed\n",
      "Salma\n",
      "Omar\n",
      "Mostafa\n",
      "Ayman\n"
     ]
    }
   ],
   "source": [
    "try:\n",
    "    '1- open file for read'\n",
    "    rfile =open(\"names.txt\", \"r\")\n",
    "except Exception as e:\n",
    "    print(e)\n",
    "else:\n",
    "    data=rfile.read()  # read ---> return all file content into one string\n",
    "    print(type(data))\n",
    "    print(data)\n",
    "    rfile.close()\n",
    "\n"
   ],
   "metadata": {
    "collapsed": false,
    "pycharm": {
     "name": "#%%\n"
    }
   }
  },
  {
   "cell_type": "code",
   "execution_count": 10,
   "outputs": [
    {
     "name": "stdout",
     "output_type": "stream",
     "text": [
      "Ahmed\n",
      "Moha\n"
     ]
    }
   ],
   "source": [
    "## read part from the file\n",
    "try:\n",
    "    rfile =open(\"names.txt\", \"r\")\n",
    "except Exception as e:\n",
    "    print(e)\n",
    "else:\n",
    "    data=rfile.read(10)  # read accept no of bytes you need to read from the file\n",
    "    print(data)\n",
    "    rfile.close()"
   ],
   "metadata": {
    "collapsed": false,
    "pycharm": {
     "name": "#%%\n"
    }
   }
  },
  {
   "cell_type": "code",
   "execution_count": 15,
   "outputs": [
    {
     "name": "stdout",
     "output_type": "stream",
     "text": [
      "Ahmed\n",
      "\n",
      "101\n",
      "012ukyuiyuiy\n",
      "\n"
     ]
    }
   ],
   "source": [
    "try:\n",
    "    rfile =open(\"names.txt\", \"r\")\n",
    "except Exception as e:\n",
    "    print(e)\n",
    "else:\n",
    "    line=rfile.readline()  # read one line form the file\n",
    "    print(line)\n",
    "    line=rfile.readline(3)\n",
    "    print(line)\n",
    "    line=rfile.readline()\n",
    "    print(line)\n",
    "\n",
    "    rfile.close()"
   ],
   "metadata": {
    "collapsed": false,
    "pycharm": {
     "name": "#%%\n"
    }
   }
  },
  {
   "cell_type": "code",
   "execution_count": 17,
   "outputs": [
    {
     "name": "stdout",
     "output_type": "stream",
     "text": [
      "['Ahmed\\n', '101012ukyuiyuiy\\n', 'Mohamed\\n', 'Salma\\n', 'Omar\\n', 'Mostafa\\n', 'Ayman']\n",
      "<class 'list'>\n"
     ]
    }
   ],
   "source": [
    "try:\n",
    "    rfile =open(\"names.txt\", \"r\")\n",
    "except Exception as e:\n",
    "    print(e)\n",
    "else:\n",
    "    #read file content line by line into a list\n",
    "    data=rfile.readlines()\n",
    "    print(data)\n",
    "    print(type(data))"
   ],
   "metadata": {
    "collapsed": false,
    "pycharm": {
     "name": "#%%\n"
    }
   }
  },
  {
   "cell_type": "code",
   "execution_count": 22,
   "outputs": [
    {
     "name": "stdout",
     "output_type": "stream",
     "text": [
      "line = Ahmed\n",
      "\n",
      "line = 101012ukyuiyuiy\n",
      "\n",
      "line = Mohamed\n",
      "\n",
      "line = Salma\n",
      "\n",
      "line = Omar\n",
      "\n",
      "line = Mostafa\n",
      "\n",
      "line = Ayman\n",
      "data = Ahmed\n",
      "101012ukyuiyuiy\n",
      "Mohamed\n",
      "Salma\n",
      "Omar\n",
      "Mostafa\n",
      "Ayman\n",
      "line = \n"
     ]
    }
   ],
   "source": [
    "# loop over the file\n",
    "try:\n",
    "    rfile =open(\"names.txt\", \"r\")\n",
    "except Exception as e:\n",
    "    print(e)\n",
    "else:\n",
    "    for l in rfile:\n",
    "        print(f\"line = {l}\")\n",
    "\n",
    "    rfile.seek(0)\n",
    "    data = rfile.read()\n",
    "    print(f\"data = {data}\")\n",
    "\n",
    "    line  = rfile.readline()\n",
    "    print(f\"line = {line}\")"
   ],
   "metadata": {
    "collapsed": false,
    "pycharm": {
     "name": "#%%\n"
    }
   }
  },
  {
   "cell_type": "code",
   "execution_count": 24,
   "outputs": [
    {
     "name": "stdout",
     "output_type": "stream",
     "text": [
      "<_io.TextIOWrapper name='names.txt' mode='r' encoding='UTF-8'>\n",
      "names.txt\n",
      "r\n"
     ]
    }
   ],
   "source": [
    "# read mode is optional\n",
    "myfile = open(\"names.txt\")\n",
    "print(myfile)\n",
    "print(myfile.name)\n",
    "print(myfile.mode)\n"
   ],
   "metadata": {
    "collapsed": false,
    "pycharm": {
     "name": "#%%\n"
    }
   }
  },
  {
   "cell_type": "code",
   "execution_count": null,
   "outputs": [],
   "source": [],
   "metadata": {
    "collapsed": false,
    "pycharm": {
     "name": "#%%\n"
    }
   }
  }
 ],
 "metadata": {
  "kernelspec": {
   "display_name": "Python 3",
   "language": "python",
   "name": "python3"
  },
  "language_info": {
   "codemirror_mode": {
    "name": "ipython",
    "version": 2
   },
   "file_extension": ".py",
   "mimetype": "text/x-python",
   "name": "python",
   "nbconvert_exporter": "python",
   "pygments_lexer": "ipython2",
   "version": "2.7.6"
  }
 },
 "nbformat": 4,
 "nbformat_minor": 0
}