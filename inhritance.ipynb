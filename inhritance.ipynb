{
 "cells": [
  {
   "cell_type": "code",
   "execution_count": 2,
   "metadata": {
    "collapsed": true
   },
   "outputs": [
    {
     "data": {
      "text/plain": "'1- to represent the inheritance'"
     },
     "execution_count": 2,
     "metadata": {},
     "output_type": "execute_result"
    }
   ],
   "source": [
    "\"1- to represent the inheritance\"\n",
    "# class Person:\n",
    "#     pass\n",
    "#\n",
    "# class Student(Person):\n",
    "#     pass\n",
    "#\n",
    "# s = Student()\n",
    "# print(isinstance(s, Student))\n",
    "# print(isinstance(s,Person))"
   ]
  },
  {
   "cell_type": "code",
   "execution_count": 5,
   "outputs": [
    {
     "data": {
      "text/plain": "'2- object structure'"
     },
     "execution_count": 5,
     "metadata": {},
     "output_type": "execute_result"
    }
   ],
   "source": [
    "\"2- object structure\"\n",
    "# class Person:\n",
    "#     def __init__(self,name):\n",
    "#         self.name =name\n",
    "#\n",
    "# class Employee(Person):\n",
    "#     pass\n",
    "#\n",
    "# e = Employee(\"Ahmed\")"
   ],
   "metadata": {
    "collapsed": false,
    "pycharm": {
     "name": "#%%\n"
    }
   }
  },
  {
   "cell_type": "code",
   "execution_count": 10,
   "outputs": [
    {
     "data": {
      "text/plain": "'3- the 2 classes have constructors'"
     },
     "execution_count": 10,
     "metadata": {},
     "output_type": "execute_result"
    }
   ],
   "source": [
    "\"3- the 2 classes have constructors\"\n",
    "# 'interpreter check if the class contain __init__ method not , if it contains the constructor ? it will be called if not it will check if the parent class has constructor and call it.'\n",
    "# class Person:\n",
    "#     def __init__(self,name):\n",
    "#         self.name =name\n",
    "#\n",
    "# class Employee(Person):\n",
    "#     def __init__(self):\n",
    "#         print(\"Employee created\")\n",
    "#\n",
    "# # e = Employee(\"Ahmed\")\n",
    "# e =  Employee()  # empty object 0--> doesn't contain the name\n",
    "# print(\"test\")"
   ],
   "metadata": {
    "collapsed": false,
    "pycharm": {
     "name": "#%%\n"
    }
   }
  },
  {
   "cell_type": "code",
   "execution_count": 12,
   "outputs": [
    {
     "data": {
      "text/plain": "'interpreter check if the class contain __init__ method not , if it contains the constructor ? it will be called if not it will check if the parent class has constructor and call it.'"
     },
     "execution_count": 12,
     "metadata": {},
     "output_type": "execute_result"
    }
   ],
   "source": [
    "\"3- the 2 classes have constructors\"\n",
    "'interpreter check if the class contain __init__ method not , if it contains the constructor ? it will be called if not it will check if the parent class has constructor and call it.'\n",
    "# class Person:\n",
    "#     def __init__(self,name):\n",
    "#         self.name =name\n",
    "#\n",
    "# class Employee(Person):\n",
    "#     def __init__(self):\n",
    "#         super().__init__(name=\"emp\")\n",
    "#         print(\"Employee created\")\n",
    "#\n",
    "# # e = Employee(\"Ahmed\")\n",
    "# e =  Employee()  # empty object 0--> doesn't contain the name\n",
    "# print(\"test\")\n",
    "# print(e.name)"
   ],
   "metadata": {
    "collapsed": false,
    "pycharm": {
     "name": "#%%\n"
    }
   }
  },
  {
   "cell_type": "code",
   "execution_count": null,
   "outputs": [],
   "source": [
    "\"Polymorphism ----> \""
   ],
   "metadata": {
    "collapsed": false,
    "pycharm": {
     "name": "#%%\n"
    }
   }
  },
  {
   "cell_type": "code",
   "execution_count": 15,
   "outputs": [
    {
     "data": {
      "text/plain": "'overriding'"
     },
     "execution_count": 15,
     "metadata": {},
     "output_type": "execute_result"
    }
   ],
   "source": [
    "\"overriding\"\n",
    "# class Person:\n",
    "#     def __init__(self,name,age):\n",
    "#         self.name =name\n",
    "#         self.age =age\n",
    "#     def speak(self):\n",
    "#         print(f\"I am {self.name}\")\n",
    "#\n",
    "# class Employee(Person):\n",
    "#     def __init__(self,name=\"emp\"):\n",
    "#         super().__init__(name,age=10)\n",
    "#         print(\"Employee created\")\n",
    "#\n",
    "# # e = Employee(\"Ahmed\")\n",
    "# e =  Employee(\"Ahmed\")  # empty object 0--> doesn't contain the name\n",
    "# print(\"test\")\n",
    "# print(e.name)\n",
    "# e.speak()"
   ],
   "metadata": {
    "collapsed": false,
    "pycharm": {
     "name": "#%%\n"
    }
   }
  },
  {
   "cell_type": "code",
   "execution_count": 18,
   "outputs": [
    {
     "data": {
      "text/plain": "'method overriding'"
     },
     "execution_count": 18,
     "metadata": {},
     "output_type": "execute_result"
    }
   ],
   "source": [
    "'method overriding'\n",
    "# class Person:\n",
    "#     def __init__(self,name,age):\n",
    "#         self.name =name\n",
    "#         self.age =age\n",
    "#     def speak(self):\n",
    "#         print(f\"I am {self.name}, called from Person\")\n",
    "#\n",
    "# class Employee(Person):\n",
    "#     def __init__(self,name=\"emp\", dept= \"Telecom\",age=25):\n",
    "#         super().__init__(name,age)\n",
    "#         self.dept =dept\n",
    "#         print(\"Employee created\")\n",
    "#\n",
    "#      # override the speak function in the parent class\n",
    "#     def speak(self):\n",
    "#         super().speak()\n",
    "#         print(f\"I am {self.name} and studies at {self.dept} track\")\n",
    "#\n",
    "#     def work(self):\n",
    "#         print(\"I am working now\")\n",
    "#\n",
    "# # e = Employee(\"Ahmed\")\n",
    "# e =  Employee(\"Ahmed\")\n",
    "# e2 = Employee(\"Asmaa\", \"iti_telecom\",25)\n",
    "# e2 = Employee(\"Asmaa\", \"iti_telecom\")\n",
    "# e2 = Employee(\"Asmaa\")\n",
    "# e2=Employee()\n",
    "# e.speak()"
   ],
   "metadata": {
    "collapsed": false,
    "pycharm": {
     "name": "#%%\n"
    }
   }
  },
  {
   "cell_type": "code",
   "execution_count": 23,
   "outputs": [
    {
     "name": "stdout",
     "output_type": "stream",
     "text": [
      "None new mesage noha\n",
      "10 We need the break Ahmed\n"
     ]
    }
   ],
   "source": [
    "\"method overloading===? no overloading in python\"\n",
    "class Test:\n",
    "    # def myfun(self,name:str):\n",
    "    #     print(f\"{name}\")\n",
    "    def myfun(self,name=None, id=None, msg=\"new mesage\"):\n",
    "         print(f\"{id} {msg} {name}\")\n",
    "t = Test()\n",
    "t.myfun(\"noha\")\n",
    "t.myfun(\"Ahmed\",10, \"We need the break\")"
   ],
   "metadata": {
    "collapsed": false,
    "pycharm": {
     "name": "#%%\n"
    }
   }
  },
  {
   "cell_type": "code",
   "execution_count": null,
   "outputs": [],
   "source": [
    "\"Python supports multiple inheritance or not\""
   ],
   "metadata": {
    "collapsed": false,
    "pycharm": {
     "name": "#%%\n"
    }
   }
  },
  {
   "cell_type": "code",
   "execution_count": 26,
   "outputs": [
    {
     "name": "stdout",
     "output_type": "stream",
     "text": [
      "Object from B called\n"
     ]
    }
   ],
   "source": [
    "class A:\n",
    "    pass\n",
    "    # def __init__(self):\n",
    "    #     print(\"object from A created \")\n",
    "\n",
    "class B:\n",
    "    def __init__(self):\n",
    "        print(\"Object from B called\")\n",
    "\n",
    "class C(A,B):\n",
    "    pass\n",
    "\n",
    "c = C()\n",
    "# print(isinstance(c,C))\n",
    "# print(isinstance(c,B))\n",
    "# print(isinstance(c,A))"
   ],
   "metadata": {
    "collapsed": false,
    "pycharm": {
     "name": "#%%\n"
    }
   }
  },
  {
   "cell_type": "code",
   "execution_count": 34,
   "outputs": [
    {
     "name": "stdout",
     "output_type": "stream",
     "text": [
      "AA constructor called\n",
      "BB constructor called\n",
      "1\n",
      "cc value\n"
     ]
    }
   ],
   "source": [
    "\"Python multiple inheritance ---> Diamond problem\"\n",
    "class AA:\n",
    "    def __init__(self, var1=1):\n",
    "        print(\"AA constructor called\")\n",
    "        self.var1 = var1\n",
    "\n",
    "class BB:\n",
    "    def __init__(self, var2=2):\n",
    "        print(\"BB constructor called\")\n",
    "        self.var2 = var2\n",
    "\n",
    "\n",
    "class CC(AA, BB):\n",
    "    def __init__(self):\n",
    "        super().__init__()  # calling the AA Constructor\n",
    "        BB.__init__(self,\"cc value\")\n",
    "\n",
    "newobj = CC()\n",
    "print(newobj.var1)\n",
    "print(newobj.var2)\n",
    "\n"
   ],
   "metadata": {
    "collapsed": false,
    "pycharm": {
     "name": "#%%\n"
    }
   }
  },
  {
   "cell_type": "code",
   "execution_count": null,
   "outputs": [],
   "source": [],
   "metadata": {
    "collapsed": false,
    "pycharm": {
     "name": "#%%\n"
    }
   }
  }
 ],
 "metadata": {
  "kernelspec": {
   "display_name": "Python 3",
   "language": "python",
   "name": "python3"
  },
  "language_info": {
   "codemirror_mode": {
    "name": "ipython",
    "version": 2
   },
   "file_extension": ".py",
   "mimetype": "text/x-python",
   "name": "python",
   "nbconvert_exporter": "python",
   "pygments_lexer": "ipython2",
   "version": "2.7.6"
  }
 },
 "nbformat": 4,
 "nbformat_minor": 0
}