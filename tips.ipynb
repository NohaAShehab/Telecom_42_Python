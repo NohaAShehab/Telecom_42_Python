{
 "cells": [
  {
   "cell_type": "code",
   "execution_count": 4,
   "metadata": {
    "collapsed": true
   },
   "outputs": [
    {
     "name": "stdout",
     "output_type": "stream",
     "text": [
      "<class 'str'>\n"
     ]
    }
   ],
   "source": [
    "'python provides built-in fun input(), you can use it to ask the user to enter input --> return it in form of string '\n",
    "\n",
    "x= input(\"plz enter value: \")\n",
    "print(type(x)) # you must check the value inside the variable before conversion"
   ]
  },
  {
   "cell_type": "code",
   "execution_count": 6,
   "outputs": [
    {
     "name": "stdout",
     "output_type": "stream",
     "text": [
      "range(0, 5)\n",
      "[0, 1, 2, 3, 4]\n"
     ]
    }
   ],
   "source": [
    "'Range function'\n",
    "l = [1,2,3,4,5]\n",
    "nums = range(5) # accept one parameter\n",
    "'range(num) return values(0 to num-1)'\n",
    "# range(0,5)\n",
    "print(nums)\n",
    "nums= list(nums)  #casting to list\n",
    "print(nums)"
   ],
   "metadata": {
    "collapsed": false,
    "pycharm": {
     "name": "#%%\n"
    }
   }
  },
  {
   "cell_type": "code",
   "execution_count": 8,
   "outputs": [
    {
     "name": "stdout",
     "output_type": "stream",
     "text": [
      "[1, 2, 3, 4, 5]\n"
     ]
    }
   ],
   "source": [
    "nums = range(1,6)\n",
    "nums= list(nums)\n",
    "print(nums)"
   ],
   "metadata": {
    "collapsed": false,
    "pycharm": {
     "name": "#%%\n"
    }
   }
  },
  {
   "cell_type": "code",
   "execution_count": 16,
   "outputs": [
    {
     "name": "stdout",
     "output_type": "stream",
     "text": [
      "hh\n",
      "plz enter another number\n"
     ]
    }
   ],
   "source": [
    "'generate list of numbers start from 0 to the number the user pass'\n",
    "start = input(\"please enter number\")  # function accept string as a message,\n",
    "# return string\n",
    "print(start)\n",
    "if start.isdigit():\n",
    "    start = int(start)\n",
    "    newl = range(start)\n",
    "    print(list(newl))\n",
    "else:\n",
    "    print(\"plz enter another number\")"
   ],
   "metadata": {
    "collapsed": false,
    "pycharm": {
     "name": "#%%\n"
    }
   }
  },
  {
   "cell_type": "code",
   "execution_count": null,
   "outputs": [],
   "source": [],
   "metadata": {
    "collapsed": false,
    "pycharm": {
     "name": "#%%\n"
    }
   }
  }
 ],
 "metadata": {
  "kernelspec": {
   "display_name": "Python 3",
   "language": "python",
   "name": "python3"
  },
  "language_info": {
   "codemirror_mode": {
    "name": "ipython",
    "version": 2
   },
   "file_extension": ".py",
   "mimetype": "text/x-python",
   "name": "python",
   "nbconvert_exporter": "python",
   "pygments_lexer": "ipython2",
   "version": "2.7.6"
  }
 },
 "nbformat": 4,
 "nbformat_minor": 0
}