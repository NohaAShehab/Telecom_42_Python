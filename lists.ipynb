{
 "cells": [
  {
   "cell_type": "code",
   "execution_count": null,
   "metadata": {
    "collapsed": true
   },
   "outputs": [],
   "source": [
    "'''Sequence is the basic data structure in python\n",
    "len , count, access iti elements through index\n",
    "\n",
    "string is one of the sequence\n",
    "# list is the most datastructure in python\n",
    "list --> data structure --> non-primitive data structure 00> list can hold different values , with different datatype\n",
    "'''"
   ]
  },
  {
   "cell_type": "code",
   "execution_count": 1,
   "outputs": [
    {
     "name": "stdout",
     "output_type": "stream",
     "text": [
      "<class 'list'>\n",
      "<class 'list'>\n"
     ]
    }
   ],
   "source": [
    "'1- to define a list'\n",
    "l = []\n",
    "myl = list([])\n",
    "print(type(l))\n",
    "print(type(myl))"
   ],
   "metadata": {
    "collapsed": false,
    "pycharm": {
     "name": "#%%\n"
    }
   }
  },
  {
   "cell_type": "code",
   "execution_count": 5,
   "outputs": [
    {
     "name": "stdout",
     "output_type": "stream",
     "text": [
      "array('i', [4, 4, 5])\n"
     ]
    }
   ],
   "source": [
    "import array\n",
    "arr = array.array(\"i\", [4,4,5])\n",
    "print(arr)"
   ],
   "metadata": {
    "collapsed": false,
    "pycharm": {
     "name": "#%%\n"
    }
   }
  },
  {
   "cell_type": "code",
   "execution_count": 23,
   "outputs": [
    {
     "name": "stdout",
     "output_type": "stream",
     "text": [
      "['Ahmed', 'Python', 42, False, ['python', 'postgres', 'java']]\n"
     ]
    }
   ],
   "source": [
    "'2- list can hold different values with different datatypes even another list'\n",
    "courses = [\"python\", \"postgres\", \"java\"]\n",
    "myl = [\"Ahmed\", \"Python\", 42, False, courses]\n",
    "print(myl)"
   ],
   "metadata": {
    "collapsed": false,
    "pycharm": {
     "name": "#%%\n"
    }
   }
  },
  {
   "cell_type": "code",
   "execution_count": 24,
   "outputs": [
    {
     "name": "stdout",
     "output_type": "stream",
     "text": [
      "['python', 'postgres', 'java']\n"
     ]
    }
   ],
   "source": [
    "'3 - list items can be accessed through index (note index start from 0)'\n",
    "print(myl[4])"
   ],
   "metadata": {
    "collapsed": false,
    "pycharm": {
     "name": "#%%\n"
    }
   }
  },
  {
   "cell_type": "code",
   "execution_count": 25,
   "outputs": [
    {
     "name": "stdout",
     "output_type": "stream",
     "text": [
      "5\n"
     ]
    }
   ],
   "source": [
    "'3 - get length of the list'\n",
    "print(len(myl))"
   ],
   "metadata": {
    "collapsed": false,
    "pycharm": {
     "name": "#%%\n"
    }
   }
  },
  {
   "cell_type": "code",
   "execution_count": 26,
   "outputs": [
    {
     "name": "stdout",
     "output_type": "stream",
     "text": [
      "['Ahmed', 'iti', 42, False, ['python', 'postgres', 'java']]\n"
     ]
    }
   ],
   "source": [
    "'4- list is mutable datatype --> can be updated in the run time '\n",
    "myl[1]= \"iti\"\n",
    "print(myl)"
   ],
   "metadata": {
    "collapsed": false,
    "pycharm": {
     "name": "#%%\n"
    }
   }
  },
  {
   "cell_type": "code",
   "execution_count": 27,
   "outputs": [
    {
     "name": "stdout",
     "output_type": "stream",
     "text": [
      "postgres\n"
     ]
    }
   ],
   "source": [
    "print(myl[4][1])"
   ],
   "metadata": {
    "collapsed": false,
    "pycharm": {
     "name": "#%%\n"
    }
   }
  },
  {
   "cell_type": "code",
   "execution_count": 20,
   "outputs": [],
   "source": [
    "# myl[5]= \"new item added\"  # not valid"
   ],
   "metadata": {
    "collapsed": false,
    "pycharm": {
     "name": "#%%\n"
    }
   }
  },
  {
   "cell_type": "code",
   "execution_count": 28,
   "outputs": [
    {
     "name": "stdout",
     "output_type": "stream",
     "text": [
      "['Ahmed', 'iti', 42, False, ['python', 'postgres', 'java'], 'new item added']\n"
     ]
    }
   ],
   "source": [
    "'5-append --> at the end of the list'\n",
    "myl.append(\"new item added\")\n",
    "print(myl)"
   ],
   "metadata": {
    "collapsed": false,
    "pycharm": {
     "name": "#%%\n"
    }
   }
  },
  {
   "cell_type": "code",
   "execution_count": 30,
   "outputs": [
    {
     "name": "stdout",
     "output_type": "stream",
     "text": [
      "['Ahmed', 'iti', 'new item inserted', 42, False, ['python', 'postgres', 'java'], 'new item added']\n"
     ]
    }
   ],
   "source": [
    "'6-insert at certain position'\n",
    "myl.insert(2,\"new item inserted\")\n",
    "print()"
   ],
   "metadata": {
    "collapsed": false,
    "pycharm": {
     "name": "#%%\n"
    }
   }
  },
  {
   "cell_type": "code",
   "execution_count": 1,
   "outputs": [
    {
     "ename": "NameError",
     "evalue": "name 'myl' is not defined",
     "output_type": "error",
     "traceback": [
      "\u001B[0;31m---------------------------------------------------------------------------\u001B[0m",
      "\u001B[0;31mNameError\u001B[0m                                 Traceback (most recent call last)",
      "Input \u001B[0;32mIn [1]\u001B[0m, in \u001B[0;36m<cell line: 1>\u001B[0;34m()\u001B[0m\n\u001B[0;32m----> 1\u001B[0m \u001B[43mmyl\u001B[49m\u001B[38;5;241m.\u001B[39minsert(\u001B[38;5;241m100\u001B[39m,\u001B[38;5;124m\"\u001B[39m\u001B[38;5;124mtessst\u001B[39m\u001B[38;5;124m\"\u001B[39m)\n\u001B[1;32m      2\u001B[0m \u001B[38;5;28mprint\u001B[39m(myl)\n",
      "\u001B[0;31mNameError\u001B[0m: name 'myl' is not defined"
     ]
    }
   ],
   "source": [
    "myl.insert(100,\"tessst\")\n",
    "print(myl)"
   ],
   "metadata": {
    "collapsed": false,
    "pycharm": {
     "name": "#%%\n"
    }
   }
  },
  {
   "cell_type": "code",
   "execution_count": 33,
   "outputs": [
    {
     "ename": "NameError",
     "evalue": "name 'my' is not defined",
     "output_type": "error",
     "traceback": [
      "\u001B[0;31m---------------------------------------------------------------------------\u001B[0m",
      "\u001B[0;31mNameError\u001B[0m                                 Traceback (most recent call last)",
      "Input \u001B[0;32mIn [33]\u001B[0m, in \u001B[0;36m<cell line: 3>\u001B[0;34m()\u001B[0m\n\u001B[1;32m      1\u001B[0m \u001B[38;5;124m'\u001B[39m\u001B[38;5;124m7- pop()\u001B[39m\u001B[38;5;124m'\u001B[39m\n\u001B[1;32m      2\u001B[0m myl\u001B[38;5;241m.\u001B[39mpop()\n\u001B[0;32m----> 3\u001B[0m \u001B[38;5;28mprint\u001B[39m(\u001B[43mmy\u001B[49m)\n",
      "\u001B[0;31mNameError\u001B[0m: name 'my' is not defined"
     ]
    }
   ],
   "source": [
    "'7- pop()  --> remove the last item '\n",
    "myl.pop()\n"
   ],
   "metadata": {
    "collapsed": false,
    "pycharm": {
     "name": "#%%\n"
    }
   }
  },
  {
   "cell_type": "code",
   "execution_count": 34,
   "outputs": [
    {
     "name": "stdout",
     "output_type": "stream",
     "text": [
      "['Ahmed', 'iti', 'new item inserted', 42, False, ['python', 'postgres', 'java'], 'new item added', 'new item inserted']\n"
     ]
    }
   ],
   "source": [
    "print(myl)"
   ],
   "metadata": {
    "collapsed": false,
    "pycharm": {
     "name": "#%%\n"
    }
   }
  },
  {
   "cell_type": "code",
   "execution_count": 35,
   "outputs": [
    {
     "name": "stdout",
     "output_type": "stream",
     "text": [
      "new item added\n",
      "['Ahmed', 'iti', 'new item inserted', 42, False, ['python', 'postgres', 'java'], 'new item inserted']\n"
     ]
    }
   ],
   "source": [
    "'8-remove item at certain index'\n",
    "item =myl.pop(6)\n",
    "print(item)\n",
    "print(myl)"
   ],
   "metadata": {
    "collapsed": false,
    "pycharm": {
     "name": "#%%\n"
    }
   }
  },
  {
   "cell_type": "code",
   "execution_count": 36,
   "outputs": [
    {
     "name": "stdout",
     "output_type": "stream",
     "text": [
      "['Ahmed', 'iti', 42, False, ['python', 'postgres', 'java'], 'new item inserted']\n"
     ]
    }
   ],
   "source": [
    "'9- remove first occurance of the element'\n",
    "myl.remove(\"new item inserted\")\n",
    "print(myl)"
   ],
   "metadata": {
    "collapsed": false,
    "pycharm": {
     "name": "#%%\n"
    }
   }
  },
  {
   "cell_type": "code",
   "execution_count": 38,
   "outputs": [
    {
     "name": "stdout",
     "output_type": "stream",
     "text": [
      "[2, 4, 5, 6, 'a', 'b', 'c']\n"
     ]
    }
   ],
   "source": [
    "'10- add two lists, return new list contains the elements of the 2 lists together '\n",
    "l1 = [2,4,5,6]\n",
    "l2 = [\"a\",\"b\", \"c\"]\n",
    "l3 = l1 + l2\n",
    "print(l3)"
   ],
   "metadata": {
    "collapsed": false,
    "pycharm": {
     "name": "#%%\n"
    }
   }
  },
  {
   "cell_type": "code",
   "execution_count": 40,
   "outputs": [
    {
     "name": "stdout",
     "output_type": "stream",
     "text": [
      "[2, 4, 5, 6, 'a', 'b', 'c', 'Ayman'] ['a', 'b', 'c', 'Ayman']\n"
     ]
    }
   ],
   "source": [
    "'11- extend list  ---> change l1'\n",
    "l1 = [2,4,5,6]\n",
    "l2 = [\"a\",\"b\", \"c\",\"Ayman\"]\n",
    "l1.extend(l2)  # change l1 not return new list\n",
    "print(l1, l2)"
   ],
   "metadata": {
    "collapsed": false,
    "pycharm": {
     "name": "#%%\n"
    }
   }
  },
  {
   "cell_type": "code",
   "execution_count": 44,
   "outputs": [
    {
     "name": "stdout",
     "output_type": "stream",
     "text": [
      "['z', 'n', 'm', 'd', 'c', 'b', 'a']\n"
     ]
    }
   ],
   "source": [
    "'12- sort a list --> sort the same list---> sort list requires that the list items should be from the same type'\n",
    "alphas = [\"b\", \"z\", \"d\", \"m\", \"c\", \"a\", \"n\"]\n",
    "alphas.sort(reverse=True)\n",
    "print(alphas)"
   ],
   "metadata": {
    "collapsed": false,
    "pycharm": {
     "name": "#%%\n"
    }
   }
  },
  {
   "cell_type": "code",
   "execution_count": 45,
   "outputs": [
    {
     "name": "stdout",
     "output_type": "stream",
     "text": [
      "['n', 'a', 'c', 'm', 'd', 'z', 'b']\n"
     ]
    }
   ],
   "source": [
    "'12- reverse a list --> '\n",
    "alphas = [\"b\", \"z\", \"d\", \"m\", \"c\", \"a\", \"n\"]\n",
    "alphas.reverse()\n",
    "print(alphas)"
   ],
   "metadata": {
    "collapsed": false,
    "pycharm": {
     "name": "#%%\n"
    }
   }
  },
  {
   "cell_type": "code",
   "execution_count": 47,
   "outputs": [
    {
     "name": "stdout",
     "output_type": "stream",
     "text": [
      "False\n"
     ]
    }
   ],
   "source": [
    "'13- check if the list contains certain value '\n",
    "names = [\"Ayman\", \"Ahmed\", \"Omar\", \"Mostafa\", \"Asmaa\", \"Salma\", \"Nora\", \"Doaa\",\"Mai\", \"Aya\"]\n",
    "print(\"Omar\" in names)"
   ],
   "metadata": {
    "collapsed": false,
    "pycharm": {
     "name": "#%%\n"
    }
   }
  },
  {
   "cell_type": "code",
   "execution_count": 48,
   "outputs": [
    {
     "name": "stdout",
     "output_type": "stream",
     "text": [
      "name = Ayman\n",
      "name = Ahmed\n",
      "name = Omar\n",
      "name = Mostafa\n",
      "name = Asmaa\n",
      "name = Salma\n",
      "name = Nora\n",
      "name = Doaa\n",
      "name = Mai\n",
      "name = Aya\n"
     ]
    }
   ],
   "source": [
    "'14- loop over the names '\n",
    "for name in names:\n",
    "    print(f\"name = {name}\")"
   ],
   "metadata": {
    "collapsed": false,
    "pycharm": {
     "name": "#%%\n"
    }
   }
  },
  {
   "cell_type": "code",
   "execution_count": 49,
   "outputs": [
    {
     "name": "stdout",
     "output_type": "stream",
     "text": [
      "4\n",
      "99999\n"
     ]
    }
   ],
   "source": [
    "\"15- min and max\"\n",
    "ll= [4,55,67,666,99999,99]\n",
    "print(min(ll))\n",
    "print(max(ll))"
   ],
   "metadata": {
    "collapsed": false,
    "pycharm": {
     "name": "#%%\n"
    }
   }
  },
  {
   "cell_type": "code",
   "execution_count": 52,
   "outputs": [
    {
     "name": "stdout",
     "output_type": "stream",
     "text": [
      "bye\n"
     ]
    }
   ],
   "source": [
    "\"16- empty list is falsy value\"\n",
    "x = []\n",
    "if x:\n",
    "    print(\"hi\")\n",
    "else:\n",
    "    print('bye')"
   ],
   "metadata": {
    "collapsed": false,
    "pycharm": {
     "name": "#%%\n"
    }
   }
  },
  {
   "cell_type": "code",
   "execution_count": null,
   "outputs": [],
   "source": [],
   "metadata": {
    "collapsed": false,
    "pycharm": {
     "name": "#%%\n"
    }
   }
  },
  {
   "cell_type": "code",
   "execution_count": null,
   "outputs": [],
   "source": [],
   "metadata": {
    "collapsed": false,
    "pycharm": {
     "name": "#%%\n"
    }
   }
  },
  {
   "cell_type": "code",
   "execution_count": null,
   "outputs": [],
   "source": [],
   "metadata": {
    "collapsed": false,
    "pycharm": {
     "name": "#%%\n"
    }
   }
  }
 ],
 "metadata": {
  "kernelspec": {
   "display_name": "Python 3",
   "language": "python",
   "name": "python3"
  },
  "language_info": {
   "codemirror_mode": {
    "name": "ipython",
    "version": 2
   },
   "file_extension": ".py",
   "mimetype": "text/x-python",
   "name": "python",
   "nbconvert_exporter": "python",
   "pygments_lexer": "ipython2",
   "version": "2.7.6"
  }
 },
 "nbformat": 4,
 "nbformat_minor": 0
}