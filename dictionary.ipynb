{
 "cells": [
  {
   "cell_type": "code",
   "execution_count": 1,
   "metadata": {
    "collapsed": true
   },
   "outputs": [
    {
     "name": "stdout",
     "output_type": "stream",
     "text": [
      "<class 'dict'>\n"
     ]
    }
   ],
   "source": [
    "\"\"\"dictionary key-value pair data-structure, uses the key to access the elements inside it , no no no index just keys \"\"\""
   ]
  },
  {
   "cell_type": "code",
   "execution_count": 5,
   "outputs": [
    {
     "name": "stdout",
     "output_type": "stream",
     "text": [
      "<class 'dict'>\n",
      "<class 'dict'>\n"
     ]
    }
   ],
   "source": [
    "\"1- to define a dictionary\"\n",
    "d = {}\n",
    "print(type(d))\n",
    "d2 = dict()\n",
    "print(type(d2))"
   ],
   "metadata": {
    "collapsed": false,
    "pycharm": {
     "name": "#%%\n"
    }
   }
  },
  {
   "cell_type": "code",
   "execution_count": 10,
   "outputs": [
    {
     "name": "stdout",
     "output_type": "stream",
     "text": [
      "{'name': 'Noha', 'works_at': 'iti', 'courses': ['Python', 'PHP', 'Admin', 'Postgres'], 1: 'Let me check', False: 'Let me chack'}\n"
     ]
    }
   ],
   "source": [
    "\"\"\"dictionary -==> values --->can hold different datatypes and different structutres\n",
    "\n",
    "dictionay keys --> should be string\n",
    "dictionary --> doesn't allow key duplication\n",
    "\"\"\"\n",
    "###### __dict__\n",
    "info = {\"name\":\"Noha\",\n",
    "        \"works_at\":\"iti\",\n",
    "        \"courses\": [\"Python\", \"PHP\", \"Admin\", \"Postgres\"],\n",
    "        1: \"databases\",\n",
    "        True : \"Let me check\",   # True --> 1 , then override it\n",
    "        False: \"Let me chack\"\n",
    "        }\n",
    "print(info)"
   ],
   "metadata": {
    "collapsed": false,
    "pycharm": {
     "name": "#%%\n"
    }
   }
  },
  {
   "cell_type": "code",
   "execution_count": 12,
   "outputs": [],
   "source": [
    "info = {0:\"Noha\",\n",
    "        1:\"iti\",\n",
    "        2: [\"Python\", \"PHP\", \"Admin\", \"Postgres\"],\n",
    "        3: \"databases\",\n",
    "        4: \"Let me check\",   # True --> 1 , then override it\n",
    "        5: \"Let me chack\"\n",
    "        }\n",
    "\n",
    "myinfo=[ \"Noha\", \"iti\",  [\"Python\", \"PHP\", \"Admin\", \"Postgres\"],\"databases\",\"Let me check\", \"Let me check\" ]"
   ],
   "metadata": {
    "collapsed": false,
    "pycharm": {
     "name": "#%%\n"
    }
   }
  },
  {
   "cell_type": "code",
   "execution_count": 13,
   "outputs": [
    {
     "name": "stdout",
     "output_type": "stream",
     "text": [
      "Noha\n"
     ]
    }
   ],
   "source": [
    "\"2- to access or update element from the dictionary===> using key\"\n",
    "info = {\"name\":\"Noha\",\n",
    "        \"works_at\":\"iti\",\n",
    "        \"courses\": [\"Python\", \"PHP\", \"Admin\", \"Postgres\"],\n",
    "        1: \"databases\",\n",
    "        True : \"Let me check\",   # True --> 1 , then override it\n",
    "        False: \"Let me chack\"\n",
    "        }\n",
    "\n",
    "print(info[\"name\"])"
   ],
   "metadata": {
    "collapsed": false,
    "pycharm": {
     "name": "#%%\n"
    }
   }
  },
  {
   "cell_type": "code",
   "execution_count": 14,
   "outputs": [
    {
     "name": "stdout",
     "output_type": "stream",
     "text": [
      "{'name': 'Ahmed', 'works_at': 'iti', 'courses': ['Python', 'PHP', 'Admin', 'Postgres'], 1: 'Let me check', False: 'Let me chack'}\n"
     ]
    }
   ],
   "source": [
    "info[\"name\"]=\"Ahmed\"\n",
    "print(info)"
   ],
   "metadata": {
    "collapsed": false,
    "pycharm": {
     "name": "#%%\n"
    }
   }
  },
  {
   "cell_type": "code",
   "execution_count": 15,
   "outputs": [
    {
     "name": "stdout",
     "output_type": "stream",
     "text": [
      "{'name': 'Ahmed', 'works_at': 'iti', 'courses': ['Python', 'PHP', 'Admin', 'Postgres'], 1: 'Let me check', False: 'Let me chack', 'city': 'Cairo'}\n"
     ]
    }
   ],
   "source": [
    "info[\"city\"]=\"Cairo\"\n",
    "print(info)"
   ],
   "metadata": {
    "collapsed": false,
    "pycharm": {
     "name": "#%%\n"
    }
   }
  },
  {
   "cell_type": "code",
   "execution_count": 16,
   "outputs": [
    {
     "data": {
      "text/plain": "' before python 3.7 dictionary items were unsorted in the memory'"
     },
     "execution_count": 16,
     "metadata": {},
     "output_type": "execute_result"
    }
   ],
   "source": [
    "\"\"\" before python 3.7 dictionary items were unsorted in the memory\n",
    "from python 3.7 and later ,dictionary pairs are sorted in the memory\n",
    "\"\"\""
   ],
   "metadata": {
    "collapsed": false,
    "pycharm": {
     "name": "#%%\n"
    }
   }
  },
  {
   "cell_type": "code",
   "execution_count": 18,
   "outputs": [
    {
     "name": "stdout",
     "output_type": "stream",
     "text": [
      "dict_keys(['name', 'works_at', 'courses', 1, False, 'city'])\n",
      "<class 'dict_keys'>\n",
      "['name', 'works_at', 'courses', 1, False, 'city']\n"
     ]
    }
   ],
   "source": [
    "\"3- get the dictionary keys\"\n",
    "info_keys = info.keys()\n",
    "print(info_keys)\n",
    "print(type(info_keys))\n",
    "print(list(info_keys))"
   ],
   "metadata": {
    "collapsed": false,
    "pycharm": {
     "name": "#%%\n"
    }
   }
  },
  {
   "cell_type": "code",
   "execution_count": 21,
   "outputs": [
    {
     "name": "stdout",
     "output_type": "stream",
     "text": [
      "dict_values(['Ahmed', 'iti', ['Python', 'PHP', 'Admin', 'Postgres'], 'Let me check', 'Let me chack', 'Cairo'])\n",
      "<class 'dict_values'>\n",
      "['Ahmed', 'iti', ['Python', 'PHP', 'Admin', 'Postgres'], 'Let me check', 'Let me chack', 'Cairo']\n"
     ]
    }
   ],
   "source": [
    "\"4- get the dictionary values\"\n",
    "info_values = info.values()\n",
    "print(info_values)\n",
    "# print(info_values[0])  # this not valid\n",
    "print(type(info_values))\n",
    "print(list(info_values))"
   ],
   "metadata": {
    "collapsed": false,
    "pycharm": {
     "name": "#%%\n"
    }
   }
  },
  {
   "cell_type": "code",
   "execution_count": 23,
   "outputs": [
    {
     "name": "stdout",
     "output_type": "stream",
     "text": [
      "dict_items([('name', 'Ahmed'), ('works_at', 'iti'), ('courses', ['Python', 'PHP', 'Admin', 'Postgres']), (1, 'Let me check'), (False, 'Let me chack'), ('city', 'Cairo')])\n",
      "<class 'dict_items'>\n",
      "[('name', 'Ahmed'), ('works_at', 'iti'), ('courses', ['Python', 'PHP', 'Admin', 'Postgres']), (1, 'Let me check'), (False, 'Let me chack'), ('city', 'Cairo')]\n"
     ]
    }
   ],
   "source": [
    "\"5- get the dictionary item\"\n",
    "dict_items = info.items()\n",
    "print(dict_items)\n",
    "print(type(dict_items))\n",
    "print(list(dict_items))"
   ],
   "metadata": {
    "collapsed": false,
    "pycharm": {
     "name": "#%%\n"
    }
   }
  },
  {
   "cell_type": "code",
   "execution_count": 24,
   "outputs": [
    {
     "name": "stdout",
     "output_type": "stream",
     "text": [
      "name\n",
      "works_at\n",
      "courses\n",
      "1\n",
      "False\n",
      "city\n"
     ]
    }
   ],
   "source": [
    "\"6- loop over the dic\"\n",
    "for item in info:   # this will get the keys\n",
    "        print(item)"
   ],
   "metadata": {
    "collapsed": false,
    "pycharm": {
     "name": "#%%\n"
    }
   }
  },
  {
   "cell_type": "code",
   "execution_count": 26,
   "outputs": [
    {
     "name": "stdout",
     "output_type": "stream",
     "text": [
      "name: Ahmed\n",
      "works_at: iti\n",
      "courses: ['Python', 'PHP', 'Admin', 'Postgres']\n",
      "1: Let me check\n",
      "False: Let me chack\n",
      "city: Cairo\n"
     ]
    }
   ],
   "source": [
    "for item in info:   # this will get the keys\n",
    "        print(f\"{item}: {info[item]}\")"
   ],
   "metadata": {
    "collapsed": false,
    "pycharm": {
     "name": "#%%\n"
    }
   }
  },
  {
   "cell_type": "code",
   "execution_count": 27,
   "outputs": [
    {
     "name": "stdout",
     "output_type": "stream",
     "text": [
      "name:Ahmed\n",
      "works_at:iti\n",
      "courses:['Python', 'PHP', 'Admin', 'Postgres']\n",
      "1:Let me check\n",
      "False:Let me chack\n",
      "city:Cairo\n"
     ]
    }
   ],
   "source": [
    "for k,v in info.items():\n",
    "        print(f\"{k}:{v}\")"
   ],
   "metadata": {
    "collapsed": false,
    "pycharm": {
     "name": "#%%\n"
    }
   }
  },
  {
   "cell_type": "code",
   "execution_count": 29,
   "outputs": [
    {
     "name": "stdout",
     "output_type": "stream",
     "text": [
      "6\n"
     ]
    }
   ],
   "source": [
    "\"7-get the len of the dic\"\n",
    "print(len(info)) #return no of pairs"
   ],
   "metadata": {
    "collapsed": false,
    "pycharm": {
     "name": "#%%\n"
    }
   }
  },
  {
   "cell_type": "code",
   "execution_count": 31,
   "outputs": [
    {
     "name": "stdout",
     "output_type": "stream",
     "text": [
      "{'a': 'Black', 'b': 'Blue', 'brand': 'kia', 'year': 2022}\n",
      "{'brand': 'kia', 'year': 2022, 'a': 'Black'}\n"
     ]
    }
   ],
   "source": [
    "\"8- dic update\"\n",
    "d1 = {\"a\":\"Red\", \"b\":\"Blue\"}\n",
    "d2 = {\"brand\":\"kia\", \"year\":2022, \"a\":\"Black\"}\n",
    "d1.update(d2) # update existing keys with new values in d2 and add the new keys in d2 to d1\n",
    "print(d1)\n",
    "print(d2)"
   ],
   "metadata": {
    "collapsed": false,
    "pycharm": {
     "name": "#%%\n"
    }
   }
  },
  {
   "cell_type": "code",
   "execution_count": 35,
   "outputs": [
    {
     "name": "stdout",
     "output_type": "stream",
     "text": [
      "False\n",
      "True\n",
      "kia\n",
      "True\n"
     ]
    }
   ],
   "source": [
    "\"10- check existance\"\n",
    "print(\"kia\" in d2)  #will search about kia in the keys\n",
    "print(\"brand\" in d2)\n",
    "print(d2[\"brand\"])\n",
    "print(\"kia\" in d2.values())"
   ],
   "metadata": {
    "collapsed": false,
    "pycharm": {
     "name": "#%%\n"
    }
   }
  },
  {
   "cell_type": "code",
   "execution_count": 36,
   "outputs": [
    {
     "name": "stdout",
     "output_type": "stream",
     "text": [
      "{}\n"
     ]
    }
   ],
   "source": [
    "del d2 # remove dictionary from the memory\n",
    "d1.clear() # remove all the pairs from the dictionary\n",
    "print(d1)"
   ],
   "metadata": {
    "collapsed": false,
    "pycharm": {
     "name": "#%%\n"
    }
   }
  }
 ],
 "metadata": {
  "kernelspec": {
   "display_name": "Python 3",
   "language": "python",
   "name": "python3"
  },
  "language_info": {
   "codemirror_mode": {
    "name": "ipython",
    "version": 2
   },
   "file_extension": ".py",
   "mimetype": "text/x-python",
   "name": "python",
   "nbconvert_exporter": "python",
   "pygments_lexer": "ipython2",
   "version": "2.7.6"
  }
 },
 "nbformat": 4,
 "nbformat_minor": 0
}