{
 "cells": [
  {
   "cell_type": "code",
   "execution_count": 7,
   "metadata": {
    "collapsed": true
   },
   "outputs": [],
   "source": [
    "# class Person:\n",
    "#     pass"
   ]
  },
  {
   "cell_type": "code",
   "execution_count": 8,
   "outputs": [],
   "source": [
    "# p = Person()  # object from Person class\n",
    "# print(p)\n",
    "# print(type(p))"
   ],
   "metadata": {
    "collapsed": false,
    "pycharm": {
     "name": "#%%\n"
    }
   }
  },
  {
   "cell_type": "code",
   "execution_count": 13,
   "outputs": [],
   "source": [
    "# class Person:\n",
    "#     # define the object properties in the __init__ -=== Constructor\n",
    "#     def __init__(self):\n",
    "#         print(self)  # refer to the instance\n",
    "#         self.name = \"Ahmed\"\n",
    "#\n",
    "# p = Person()\n",
    "# p2 = Person()\n"
   ],
   "metadata": {
    "collapsed": false,
    "pycharm": {
     "name": "#%%\n"
    }
   }
  },
  {
   "cell_type": "code",
   "execution_count": 25,
   "outputs": [],
   "source": [
    "# class Person:\n",
    "#     # define the object properties in the __init__ -=== Constructor\n",
    "#     def __init__(self, name):\n",
    "#         print(self)  # refer to the instance\n",
    "#         self.name = name\n",
    "#\n",
    "# p = Person(\"Omar\")\n",
    "# p2 = Person(\"Ahmed\")"
   ],
   "metadata": {
    "collapsed": false,
    "pycharm": {
     "name": "#%%\n"
    }
   }
  },
  {
   "cell_type": "code",
   "execution_count": 23,
   "outputs": [
    {
     "name": "stdout",
     "output_type": "stream",
     "text": [
      "<__main__.Person object at 0x7fdc468e6700>\n",
      "<__main__.Person object at 0x7fdc468e6fd0>\n",
      "This is called while creating the object\n",
      "<__main__.Person object at 0x7fdc4690f790>\n",
      "This is called while creating the object\n",
      "<__main__.Person object at 0x7fdc4690fd90>\n",
      "This is called while creating the object\n",
      "<__main__.Person object at 0x7fdc4690f130>\n",
      "This is called while creating the object\n",
      "<__main__.Person object at 0x7fdc4690f790>\n"
     ]
    }
   ],
   "source": [
    "class Person:\n",
    "    # no multiple constructors,but default arguments can be passed to the constructor\n",
    "    def __init__(self, name, age=0):\n",
    "        print(\"This is called while creating the object\")\n",
    "        print(self)  # refer to the instance\n",
    "        # name and age are instance variables\n",
    "        'OOP says that all class instance must have the same instance variables'\n",
    "        self.name = name\n",
    "        self.age = age\n",
    "\n",
    "    # def __init__(self, name, age):\n",
    "    #     self.name = name\n",
    "    #     self.age = age\n",
    "\n",
    "p = Person(\"Omar\")\n",
    "p2 = Person(\"Ahmed\",26)"
   ],
   "metadata": {
    "collapsed": false,
    "pycharm": {
     "name": "#%%\n"
    }
   }
  },
  {
   "cell_type": "code",
   "execution_count": 30,
   "outputs": [
    {
     "name": "stdout",
     "output_type": "stream",
     "text": [
      "This is called while creating the object\n",
      "<__main__.Person object at 0x7fdc4689d6d0>\n",
      "This is called while creating the object\n",
      "<__main__.Person object at 0x7fdc4689d400>\n"
     ]
    }
   ],
   "source": [
    "class Person:\n",
    "\n",
    "    def __init__(self, name, age=0):\n",
    "        print(\"This is called while creating the object\")\n",
    "        print(self)  # refer to the instance\n",
    "        'OOP says that all instances from the class must have the same instance variables'\n",
    "        self.name = name\n",
    "        self.age = age\n",
    "\n",
    "p3 = Person(\"Omar\")\n",
    "'add new instance variables to the object in the run time'\n",
    "p3.address = \"Cairo\"\n",
    "p4 = Person(\"Ahmed\",77)\n"
   ],
   "metadata": {
    "collapsed": false,
    "pycharm": {
     "name": "#%%\n"
    }
   }
  },
  {
   "cell_type": "code",
   "execution_count": 32,
   "outputs": [
    {
     "name": "stdout",
     "output_type": "stream",
     "text": [
      "person\n",
      "25\n",
      "-------------------------------------\n",
      "Hello I am Ali\n",
      "-------------------------------------\n",
      "Hello I am Ahmed\n"
     ]
    }
   ],
   "source": [
    "class Persons:\n",
    "\n",
    "    def __init__(self,name=\"person\", age=25):\n",
    "        # instance variables\n",
    "        # by default you can access the instance variables using instance name\n",
    "        self.name = name\n",
    "        self.age = age\n",
    "\n",
    "    # instance methods\n",
    "    def speak(self):\n",
    "        print(f\"Hello I am {self.name}\")\n",
    "\n",
    "p5 = Persons()\n",
    "print(p5.name)\n",
    "print(p5.age)\n",
    "print(\"-------------------------------------\")\n",
    "p6 = Persons(\"Ali\")\n",
    "p6.speak()\n",
    "print(\"-------------------------------------\")\n",
    "p7 = Persons(\"Ahmed\", 28)\n",
    "p7.speak()\n"
   ],
   "metadata": {
    "collapsed": false,
    "pycharm": {
     "name": "#%%\n"
    }
   }
  },
  {
   "cell_type": "code",
   "execution_count": 37,
   "outputs": [
    {
     "name": "stdout",
     "output_type": "stream",
     "text": [
      "True\n",
      "test\n"
     ]
    }
   ],
   "source": [
    "'''class variables'''\n",
    "class Product:\n",
    "    iso_cerified = True # as a class variable, can be accessed and modifed using class name\n",
    "    # variable value is shared between all class instance\n",
    "\n",
    "    def __init__(self,name=None, description=None):\n",
    "        self.name= name\n",
    "        self.description = description\n",
    "\n",
    "    def productinfo(self):\n",
    "        print(f'product is {self.name},can {self.description}')\n",
    "prd1 = Product(\"pencil\", \"can be earsed\")\n",
    "prd2 = Product(\"camera\")\n",
    "print(Product.iso_cerified)\n",
    "Product.iso_cerified = False\n",
    "print(\"test\")\n"
   ],
   "metadata": {
    "collapsed": false,
    "pycharm": {
     "name": "#%%\n"
    }
   }
  },
  {
   "cell_type": "code",
   "execution_count": 46,
   "outputs": [
    {
     "name": "stdout",
     "output_type": "stream",
     "text": [
      "True\n",
      "True\n",
      "this is for Python False\n",
      "this is for postgres True\n",
      "False\n",
      "True\n"
     ]
    }
   ],
   "source": [
    "class Course:\n",
    "    iso_certifed = True  # class variable\n",
    "    def __init__(self, coursename):\n",
    "        self.coursename =coursename  # instance variable\n",
    "\n",
    "python = Course(\"python\")\n",
    "print(Course.iso_certifed)\n",
    "print(python.iso_certifed)\n",
    "python.iso_certifed = False  # this is now not the class variable we created before for the class course\n",
    "print(f\"this is for Python {python.iso_certifed}\")\n",
    "Postgres = Course(\"postgres\")\n",
    "print(f\"this is for postgres {Postgres.iso_certifed}\")\n",
    "\n",
    "Course.iso_certifed = \"Courses\"\n",
    "print(python.iso_certifed)\n",
    "print(Postgres.iso_certifed)"
   ],
   "metadata": {
    "collapsed": false,
    "pycharm": {
     "name": "#%%\n"
    }
   }
  },
  {
   "cell_type": "code",
   "execution_count": 55,
   "outputs": [
    {
     "name": "stdout",
     "output_type": "stream",
     "text": [
      "2\n",
      "<class '__main__.Student'>\n",
      "No of students are 2\n"
     ]
    }
   ],
   "source": [
    "### class methods\n",
    "class Student:\n",
    "    count = 0 # class variable ,\n",
    "    def __init__(self,name=\"std\", level=1):\n",
    "        self.name = name\n",
    "        self.level = level\n",
    "        Student.count+=1\n",
    "    # decorator # class method work over the class\n",
    "    @classmethod\n",
    "    def getStudents(cls):\n",
    "        print(cls)  # represent the class\n",
    "        print(f\"No of students are {cls.count}\")\n",
    "\n",
    "\n",
    "std1 = Student()\n",
    "std2 =Student ()\n",
    "print(Student.count)\n",
    "Student.getStudents()"
   ],
   "metadata": {
    "collapsed": false,
    "pycharm": {
     "name": "#%%\n"
    }
   }
  },
  {
   "cell_type": "markdown",
   "source": [],
   "metadata": {
    "collapsed": false
   }
  },
  {
   "cell_type": "code",
   "execution_count": 53,
   "outputs": [
    {
     "name": "stdout",
     "output_type": "stream",
     "text": [
      "3\n"
     ]
    }
   ],
   "source": [
    "std3 = Student(\"Ahmed\")\n",
    "print(Student.count)"
   ],
   "metadata": {
    "collapsed": false,
    "pycharm": {
     "name": "#%%\n"
    }
   }
  },
  {
   "cell_type": "code",
   "execution_count": 58,
   "outputs": [
    {
     "name": "stdout",
     "output_type": "stream",
     "text": [
      "<__main__.Car object at 0x7fdc697a2fd0>\n",
      "new car is KiaKia, PicantoSoul, 2023\n"
     ]
    }
   ],
   "source": [
    "# why to use class method as object factory\n",
    "class Car:\n",
    "    carcount = 0\n",
    "    def __init__(self,brand, model, year):\n",
    "        self.brand = brand\n",
    "        self.model = model\n",
    "        self.year = year\n",
    "        Car.carcount +=1\n",
    "\n",
    "    @classmethod\n",
    "    def carFactory(cls):\n",
    "        return cls(\"Fait\",128,1985)\n",
    "\n",
    "    @classmethod\n",
    "    def addCar(cls,c1, c2):\n",
    "        brand = c1.brand + c2.brand\n",
    "        model = c1.model + c2.model\n",
    "        return cls(brand, model,2023)\n",
    "\n",
    "c = Car(\"Kia\", \"Picanto\", 2018)\n",
    "print(Car.carFactory())\n",
    "c2 = Car(\"Kia\", \"Soul\", 2018)\n",
    "res=Car.addCar(c, c2)\n",
    "print(f\"new car is {res.brand}, {res.model}, {res.year}\")\n",
    "\n",
    "# return cls(\"Fait\",128,1985)\n",
    "# return Car(\"fait\",128, 1985)\n"
   ],
   "metadata": {
    "collapsed": false,
    "pycharm": {
     "name": "#%%\n"
    }
   }
  },
  {
   "cell_type": "code",
   "execution_count": 63,
   "outputs": [],
   "source": [
    "# class Employees:\n",
    "#     def __init__(self,name, id, sal):\n",
    "#         self.name = name\n",
    "#         self.id = id\n",
    "#         self.sal = sal\n",
    "#\n",
    "#\n",
    "# e1 = Employees(\"Ahmed\",10, 1000)\n",
    "# # netsal ==> sal* .9\n",
    "# e2 = Employees(\"Ahmed\",10, 20000)\n",
    "# # this a helper function\n",
    "# def netsal(sal):\n",
    "#     return  sal*.9\n",
    "#\n",
    "# print(netsal(e1.sal))\n",
    "# print(netsal(e2.sal))\n",
    "# print(netsal(7000))"
   ],
   "metadata": {
    "collapsed": false,
    "pycharm": {
     "name": "#%%\n"
    }
   }
  },
  {
   "cell_type": "code",
   "execution_count": 64,
   "outputs": [
    {
     "name": "stdout",
     "output_type": "stream",
     "text": [
      "900.0\n",
      "18000.0\n"
     ]
    }
   ],
   "source": [
    "class Employees:\n",
    "    def __init__(self,name, id, sal):\n",
    "        self.name = name\n",
    "        self.id = id\n",
    "        self.sal = sal\n",
    "\n",
    "    @staticmethod # method doesn't depend on either class or the object just helper method\n",
    "    def netsal(sal):\n",
    "        return  sal*.9\n",
    "\n",
    "#\n",
    "e1 = Employees(\"Ahmed\",10, 1000)\n",
    "# # netsal ==> sal* .9\n",
    "e2 = Employees(\"Ahmed\",10, 20000)\n",
    "print(e1.netsal(e1.sal))\n",
    "print(Employees.netsal(e2.sal))"
   ],
   "metadata": {
    "collapsed": false,
    "pycharm": {
     "name": "#%%\n"
    }
   }
  },
  {
   "cell_type": "code",
   "execution_count": null,
   "outputs": [],
   "source": [
    "e2.newvar = \"test\""
   ],
   "metadata": {
    "collapsed": false,
    "pycharm": {
     "name": "#%%\n"
    }
   }
  }
 ],
 "metadata": {
  "kernelspec": {
   "display_name": "Python 3",
   "language": "python",
   "name": "python3"
  },
  "language_info": {
   "codemirror_mode": {
    "name": "ipython",
    "version": 2
   },
   "file_extension": ".py",
   "mimetype": "text/x-python",
   "name": "python",
   "nbconvert_exporter": "python",
   "pygments_lexer": "ipython2",
   "version": "2.7.6"
  }
 },
 "nbformat": 4,
 "nbformat_minor": 0
}