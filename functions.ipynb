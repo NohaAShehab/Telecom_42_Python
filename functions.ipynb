{
 "cells": [
  {
   "cell_type": "code",
   "execution_count": 2,
   "metadata": {
    "collapsed": true
   },
   "outputs": [],
   "source": [
    "def test():\n",
    "    pass\n",
    "\n",
    "def hello():\n",
    "    return\n",
    "\n",
    "test()\n",
    "hello()"
   ]
  },
  {
   "cell_type": "code",
   "execution_count": 9,
   "outputs": [
    {
     "name": "stdout",
     "output_type": "stream",
     "text": [
      "Welcome to day02\n",
      "None\n"
     ]
    }
   ],
   "source": [
    "def welcome():   # accept no parm,\n",
    "    print(\"Welcome to day02\")\n",
    "\n",
    "x = welcome()\n",
    "print(x)  # object from None type ---> Falsy"
   ],
   "metadata": {
    "collapsed": false,
    "pycharm": {
     "name": "#%%\n"
    }
   }
  },
  {
   "cell_type": "code",
   "execution_count": 11,
   "outputs": [
    {
     "name": "stdout",
     "output_type": "stream",
     "text": [
      "this is the test function\n",
      "None\n"
     ]
    }
   ],
   "source": [
    "def testreturn():\n",
    "    print(\"this is the test function\")\n",
    "    return\n",
    "\n",
    "m = testreturn()\n",
    "print(m)"
   ],
   "metadata": {
    "collapsed": false,
    "pycharm": {
     "name": "#%%\n"
    }
   }
  },
  {
   "cell_type": "code",
   "execution_count": 16,
   "outputs": [
    {
     "name": "stdout",
     "output_type": "stream",
     "text": [
      "False\n"
     ]
    }
   ],
   "source": [
    "def teststring():\n",
    "    x = input(\"plz enter your name: \")\n",
    "    if x.isalpha():  # check if all the string is only chars a to Z\n",
    "        return True\n",
    "    else:\n",
    "        return False\n",
    "\n",
    "x = teststring()\n",
    "print(x)"
   ],
   "metadata": {
    "collapsed": false,
    "pycharm": {
     "name": "#%%\n"
    }
   }
  },
  {
   "cell_type": "code",
   "execution_count": 18,
   "outputs": [
    {
     "name": "stdout",
     "output_type": "stream",
     "text": [
      "9\n",
      "9\n",
      "itipython\n",
      "itipython\n"
     ]
    }
   ],
   "source": [
    "def addnums(num1, num2):\n",
    "    summ = num1 + num2\n",
    "    print(summ)\n",
    "    return summ\n",
    "\n",
    "res=addnums(4,5)\n",
    "print(res)\n",
    "\n",
    "res2 = addnums(\"iti\", \"python\")\n",
    "print(res2)"
   ],
   "metadata": {
    "collapsed": false,
    "pycharm": {
     "name": "#%%\n"
    }
   }
  },
  {
   "cell_type": "code",
   "execution_count": 21,
   "outputs": [
    {
     "name": "stdout",
     "output_type": "stream",
     "text": [
      "9\n",
      "9\n",
      "itipython\n",
      "itipython\n"
     ]
    },
    {
     "ename": "TypeError",
     "evalue": "can only concatenate str (not \"int\") to str",
     "output_type": "error",
     "traceback": [
      "\u001B[0;31m---------------------------------------------------------------------------\u001B[0m",
      "\u001B[0;31mTypeError\u001B[0m                                 Traceback (most recent call last)",
      "Input \u001B[0;32mIn [21]\u001B[0m, in \u001B[0;36m<cell line: 12>\u001B[0;34m()\u001B[0m\n\u001B[1;32m      9\u001B[0m res2 \u001B[38;5;241m=\u001B[39m addnums2(\u001B[38;5;124m\"\u001B[39m\u001B[38;5;124miti\u001B[39m\u001B[38;5;124m\"\u001B[39m, \u001B[38;5;124m\"\u001B[39m\u001B[38;5;124mpython\u001B[39m\u001B[38;5;124m\"\u001B[39m)\n\u001B[1;32m     10\u001B[0m \u001B[38;5;28mprint\u001B[39m(res2)\n\u001B[0;32m---> 12\u001B[0m \u001B[43maddnums2\u001B[49m\u001B[43m(\u001B[49m\u001B[38;5;124;43m\"\u001B[39;49m\u001B[38;5;124;43miti\u001B[39;49m\u001B[38;5;124;43m\"\u001B[39;49m\u001B[43m,\u001B[49m\u001B[38;5;241;43m42\u001B[39;49m\u001B[43m)\u001B[49m\n",
      "Input \u001B[0;32mIn [21]\u001B[0m, in \u001B[0;36maddnums2\u001B[0;34m(num1, num2)\u001B[0m\n\u001B[1;32m      1\u001B[0m \u001B[38;5;28;01mdef\u001B[39;00m \u001B[38;5;21maddnums2\u001B[39m(num1 :\u001B[38;5;28mint\u001B[39m, num2 :\u001B[38;5;28mint\u001B[39m):  \u001B[38;5;66;03m# hint ---\u001B[39;00m\n\u001B[0;32m----> 2\u001B[0m     summ \u001B[38;5;241m=\u001B[39m \u001B[43mnum1\u001B[49m\u001B[43m \u001B[49m\u001B[38;5;241;43m+\u001B[39;49m\u001B[43m \u001B[49m\u001B[43mnum2\u001B[49m\n\u001B[1;32m      3\u001B[0m     \u001B[38;5;28mprint\u001B[39m(summ)\n\u001B[1;32m      4\u001B[0m     \u001B[38;5;28;01mreturn\u001B[39;00m summ\n",
      "\u001B[0;31mTypeError\u001B[0m: can only concatenate str (not \"int\") to str"
     ]
    }
   ],
   "source": [
    "def addnums2(num1 :int, num2 :int):  # hint ---\n",
    "    summ = num1 + num2\n",
    "    print(summ)\n",
    "    return summ\n",
    "\n",
    "res=addnums2(4,5)\n",
    "print(res)\n",
    "\n",
    "res2 = addnums2(\"iti\", \"python\")\n",
    "print(res2)\n",
    "\n",
    "addnums2(\"iti\",42)"
   ],
   "metadata": {
    "collapsed": false,
    "pycharm": {
     "name": "#%%\n"
    }
   }
  },
  {
   "cell_type": "code",
   "execution_count": 24,
   "outputs": [
    {
     "name": "stdout",
     "output_type": "stream",
     "text": [
      "True\n",
      "9\n",
      "9\n",
      "----------------------------------------------------\n",
      "False\n",
      "the parameters passed are not allowed\n",
      "None\n",
      "----------------------------------------------------\n",
      "False\n",
      "the parameters passed are not allowed\n"
     ]
    }
   ],
   "source": [
    "def addnums2(num1 :int, num2 :int):  # num1 and num2 should be int\n",
    "    print(isinstance(num1,int))\n",
    "    if isinstance(num1, int) and isinstance(num2, int):\n",
    "        summ = num1 + num2\n",
    "        print(summ)\n",
    "        return summ\n",
    "    else:\n",
    "        print(\"the parameters passed are not allowed\")\n",
    "        return\n",
    "\n",
    "res=addnums2(4,5)\n",
    "print(res)\n",
    "print(\"----------------------------------------------------\")\n",
    "res2 = addnums2(\"iti\", \"python\")\n",
    "print(res2)\n",
    "print(\"----------------------------------------------------\")\n",
    "\n",
    "addnums2(\"iti\",42)"
   ],
   "metadata": {
    "collapsed": false,
    "pycharm": {
     "name": "#%%\n"
    }
   }
  },
  {
   "cell_type": "code",
   "execution_count": 25,
   "outputs": [
    {
     "name": "stdout",
     "output_type": "stream",
     "text": [
      "<class 'int'>\n"
     ]
    }
   ],
   "source": [
    "print(type(10))"
   ],
   "metadata": {
    "collapsed": false,
    "pycharm": {
     "name": "#%%\n"
    }
   }
  },
  {
   "cell_type": "code",
   "execution_count": 36,
   "outputs": [
    {
     "ename": "TypeError",
     "evalue": "mulnum() takes from 0 to 2 positional arguments but 3 were given",
     "output_type": "error",
     "traceback": [
      "\u001B[0;31m---------------------------------------------------------------------------\u001B[0m",
      "\u001B[0;31mTypeError\u001B[0m                                 Traceback (most recent call last)",
      "Input \u001B[0;32mIn [36]\u001B[0m, in \u001B[0;36m<cell line: 7>\u001B[0;34m()\u001B[0m\n\u001B[1;32m      4\u001B[0m \u001B[38;5;28;01mdef\u001B[39;00m \u001B[38;5;21mmulnum\u001B[39m(num1\u001B[38;5;241m=\u001B[39m\u001B[38;5;241m44\u001B[39m , num2\u001B[38;5;241m=\u001B[39m\u001B[38;5;241m100\u001B[39m):\n\u001B[1;32m      5\u001B[0m     \u001B[38;5;28mprint\u001B[39m(\u001B[38;5;124mf\u001B[39m\u001B[38;5;124m'\u001B[39m\u001B[38;5;124mnum1 = \u001B[39m\u001B[38;5;132;01m{\u001B[39;00mnum1\u001B[38;5;132;01m}\u001B[39;00m\u001B[38;5;124m, num2 = \u001B[39m\u001B[38;5;132;01m{\u001B[39;00mnum2\u001B[38;5;132;01m}\u001B[39;00m\u001B[38;5;124m'\u001B[39m)\n\u001B[0;32m----> 7\u001B[0m \u001B[43mmulnum\u001B[49m\u001B[43m(\u001B[49m\u001B[38;5;241;43m10\u001B[39;49m\u001B[43m,\u001B[49m\u001B[43m \u001B[49m\u001B[38;5;241;43m20\u001B[39;49m\u001B[43m,\u001B[49m\u001B[38;5;124;43m\"\u001B[39;49m\u001B[38;5;124;43miti\u001B[39;49m\u001B[38;5;124;43m\"\u001B[39;49m\u001B[43m)\u001B[49m\n\u001B[1;32m      8\u001B[0m mulnum(\u001B[38;5;241m10\u001B[39m)\n\u001B[1;32m      9\u001B[0m mulnum(\u001B[38;5;241m55\u001B[39m)\n",
      "\u001B[0;31mTypeError\u001B[0m: mulnum() takes from 0 to 2 positional arguments but 3 were given"
     ]
    }
   ],
   "source": [
    "\"\"\"Python supports functions with defaults arguments\n",
    "non-default arguments should preceed default arguments\n",
    "\"\"\"\n",
    "def mulnum(num1=44 , num2=100):\n",
    "    print(f'num1 = {num1}, num2 = {num2}')\n",
    "\n",
    "mulnum(10, 20)\n",
    "mulnum(10)\n",
    "mulnum(55)\n",
    "mulnum(num2=55)\n",
    "# mulnum(,55)# invalid syntax"
   ],
   "metadata": {
    "collapsed": false,
    "pycharm": {
     "name": "#%%\n"
    }
   }
  },
  {
   "cell_type": "code",
   "execution_count": 38,
   "outputs": [
    {
     "name": "stdout",
     "output_type": "stream",
     "text": [
      "()\n",
      "<class 'tuple'>\n",
      "------------------------------------------\n",
      "('noha', 'iti', 2014)\n",
      "<class 'tuple'>\n",
      "noha\n",
      "iti\n",
      "2014\n",
      "------------------------------------------\n",
      "('ahmed',)\n",
      "<class 'tuple'>\n",
      "ahmed\n",
      "------------------------------------------\n",
      "('Engineering', 35)\n",
      "<class 'tuple'>\n",
      "Engineering\n",
      "35\n",
      "------------------------------------------\n"
     ]
    }
   ],
   "source": [
    "\"functions ===>  has unknow number of arguments\"\n",
    "def introduceyourself(* args):  # * arguments passed to the function can be zero or more\n",
    "    print(args)  # args is a tuple\n",
    "    print(type(args))\n",
    "    for i in args:\n",
    "        print(i)\n",
    "    print(\"------------------------------------------\")\n",
    "    pass\n",
    "\n",
    "introduceyourself()\n",
    "introduceyourself(\"noha\",\"iti\",2014)\n",
    "introduceyourself(\"ahmed\")\n",
    "introduceyourself(\"Engineering\", 35)"
   ],
   "metadata": {
    "collapsed": false,
    "pycharm": {
     "name": "#%%\n"
    }
   }
  },
  {
   "cell_type": "code",
   "execution_count": 40,
   "outputs": [
    {
     "name": "stdout",
     "output_type": "stream",
     "text": [
      "{'name': 'noha', 'graduation': 2014, 'works': 'iti'} <class 'dict'>\n",
      "-----------------------------------------\n",
      "{'fname': 'Ahmed', 'lname': 'Mohamed'} <class 'dict'>\n",
      "-----------------------------------------\n",
      "{'msg': 'no info'} <class 'dict'>\n",
      "-----------------------------------------\n",
      "{} <class 'dict'>\n",
      "-----------------------------------------\n"
     ]
    }
   ],
   "source": [
    "def getInfo(** kwargs):\n",
    "    print(kwargs, type(kwargs))\n",
    "    print(\"-----------------------------------------\")\n",
    "\n",
    "getInfo(name=\"noha\", graduation=2014, works=\"iti\")\n",
    "getInfo(fname= \"Ahmed\", lname=\"Mohamed\")\n",
    "getInfo(msg='no info')\n",
    "getInfo()"
   ],
   "metadata": {
    "collapsed": false,
    "pycharm": {
     "name": "#%%\n"
    }
   }
  },
  {
   "cell_type": "code",
   "execution_count": 42,
   "outputs": [
    {
     "name": "stdout",
     "output_type": "stream",
     "text": [
      "('Noha Shehab', 'Noha', 'Shehab') <class 'tuple'>\n"
     ]
    }
   ],
   "source": [
    "def getfullname(fname :str, lname:str):\n",
    "    fullname = fname + \" \"+lname\n",
    "    return fullname, fname, lname  #return the values in a tuple\n",
    "\n",
    "\n",
    "r = getfullname(\"Noha\", \"Shehab\")\n",
    "print(r, type(r))"
   ],
   "metadata": {
    "collapsed": false,
    "pycharm": {
     "name": "#%%\n"
    }
   }
  },
  {
   "cell_type": "code",
   "execution_count": null,
   "outputs": [],
   "source": [],
   "metadata": {
    "collapsed": false,
    "pycharm": {
     "name": "#%%\n"
    }
   }
  }
 ],
 "metadata": {
  "kernelspec": {
   "display_name": "Python 3",
   "language": "python",
   "name": "python3"
  },
  "language_info": {
   "codemirror_mode": {
    "name": "ipython",
    "version": 2
   },
   "file_extension": ".py",
   "mimetype": "text/x-python",
   "name": "python",
   "nbconvert_exporter": "python",
   "pygments_lexer": "ipython2",
   "version": "2.7.6"
  }
 },
 "nbformat": 4,
 "nbformat_minor": 0
}