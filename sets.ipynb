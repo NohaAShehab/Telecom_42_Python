{
 "cells": [
  {
   "cell_type": "code",
   "execution_count": 1,
   "metadata": {
    "collapsed": true
   },
   "outputs": [
    {
     "data": {
      "text/plain": "\"sets is one of the basic data structure in python \\n1- has no indecies \\n2- items are not sort in memory \\n3- cannot get item at certain index\\n4- you only add or pop item from the set , ==> randomly\\n5- set doesn't allow duplicates\\n\""
     },
     "execution_count": 1,
     "metadata": {},
     "output_type": "execute_result"
    }
   ],
   "source": [
    "'''sets is one of the basic data structure in python\n",
    "1- has no indecies\n",
    "2- items are not sort in memory\n",
    "3- cannot get item at certain index\n",
    "4- you only add or pop item from the set , ==> randomly\n",
    "5- set doesn't allow duplicates\n",
    "'''"
   ]
  },
  {
   "cell_type": "code",
   "execution_count": 2,
   "outputs": [],
   "source": [
    "# l  = [\"iti\", \"iti\", \"abc\"]"
   ],
   "metadata": {
    "collapsed": false,
    "pycharm": {
     "name": "#%%\n"
    }
   }
  },
  {
   "cell_type": "code",
   "execution_count": 23,
   "outputs": [
    {
     "name": "stdout",
     "output_type": "stream",
     "text": [
      "<class 'dict'>\n",
      "{'shell script', 'python', 'iti'}\n",
      "<class 'set'>\n"
     ]
    }
   ],
   "source": [
    "\"1- to define a set\"\n",
    "emptyset = set()\n",
    "print(type(emptyset))\n",
    "s = {\"iti\", \"python\", \"shell script\"}\n",
    "print(s)\n",
    "print(type(s))"
   ],
   "metadata": {
    "collapsed": false,
    "pycharm": {
     "name": "#%%\n"
    }
   }
  },
  {
   "cell_type": "code",
   "execution_count": 6,
   "outputs": [
    {
     "name": "stdout",
     "output_type": "stream",
     "text": [
      "3\n"
     ]
    }
   ],
   "source": [
    "\"2- get len of set\"\n",
    "print(len(s))"
   ],
   "metadata": {
    "collapsed": false,
    "pycharm": {
     "name": "#%%\n"
    }
   }
  },
  {
   "cell_type": "code",
   "execution_count": 8,
   "outputs": [
    {
     "name": "stdout",
     "output_type": "stream",
     "text": [
      "shell script\n",
      "python\n",
      "iti\n"
     ]
    }
   ],
   "source": [
    "\"3- loop over the set\"\n",
    "for item in s:\n",
    "    print(item)"
   ],
   "metadata": {
    "collapsed": false,
    "pycharm": {
     "name": "#%%\n"
    }
   }
  },
  {
   "cell_type": "code",
   "execution_count": 10,
   "outputs": [
    {
     "name": "stdout",
     "output_type": "stream",
     "text": [
      "{'shell script', 'python', 'iti', 'new item added'}\n"
     ]
    }
   ],
   "source": [
    "\"4- add item to the set\"\n",
    "s.add(\"new item added\")\n",
    "print(s)"
   ],
   "metadata": {
    "collapsed": false,
    "pycharm": {
     "name": "#%%\n"
    }
   }
  },
  {
   "cell_type": "code",
   "execution_count": 15,
   "outputs": [
    {
     "name": "stdout",
     "output_type": "stream",
     "text": [
      "{'shell script', 'python', 'new item added2', 'iti'}\n"
     ]
    }
   ],
   "source": [
    "\"5- doesn't allow duplicates\"\n",
    "s.add(\"new item added2\")\n",
    "print(s)"
   ],
   "metadata": {
    "collapsed": false,
    "pycharm": {
     "name": "#%%\n"
    }
   }
  },
  {
   "cell_type": "code",
   "execution_count": 13,
   "outputs": [
    {
     "name": "stdout",
     "output_type": "stream",
     "text": [
      "{'IOT', 'Cloud', 'iti', 'Python', 'Telecom', 'Application'}\n"
     ]
    }
   ],
   "source": [
    "# I want to remove the duplicates in some list\n",
    "l = [\"iti\", \"Python\", \"Telecom\", \"IOT\", \"Application\", \"Cloud\", \"Python\", \"Python\"]\n",
    "\n",
    "newset = set(l)\n",
    "print(newset)"
   ],
   "metadata": {
    "collapsed": false,
    "pycharm": {
     "name": "#%%\n"
    }
   }
  },
  {
   "cell_type": "code",
   "execution_count": 17,
   "outputs": [
    {
     "name": "stdout",
     "output_type": "stream",
     "text": [
      "{'Postgres', 'iti', 'Python', 'Admin2', 'Admin3'}\n",
      "{'iti', 'Python', 'Admin2', 'Admin3'}\n"
     ]
    }
   ],
   "source": [
    "\"6 remove item from set\"\n",
    "mys = {\"iti\", \"Python\", \"Postgres\",\"Admin2\", \"Admin3\"}\n",
    "print(mys)\n",
    "mys.pop() # random remove for the item\n",
    "print(mys)"
   ],
   "metadata": {
    "collapsed": false,
    "pycharm": {
     "name": "#%%\n"
    }
   }
  },
  {
   "cell_type": "code",
   "execution_count": 20,
   "outputs": [
    {
     "ename": "TypeError",
     "evalue": "set.pop() takes no arguments (1 given)",
     "output_type": "error",
     "traceback": [
      "\u001B[0;31m---------------------------------------------------------------------------\u001B[0m",
      "\u001B[0;31mTypeError\u001B[0m                                 Traceback (most recent call last)",
      "Input \u001B[0;32mIn [20]\u001B[0m, in \u001B[0;36m<cell line: 1>\u001B[0;34m()\u001B[0m\n\u001B[0;32m----> 1\u001B[0m \u001B[43mmys\u001B[49m\u001B[38;5;241;43m.\u001B[39;49m\u001B[43mpop\u001B[49m\u001B[43m(\u001B[49m\u001B[38;5;124;43m\"\u001B[39;49m\u001B[38;5;124;43miti\u001B[39;49m\u001B[38;5;124;43m\"\u001B[39;49m\u001B[43m)\u001B[49m  \u001B[38;5;66;03m# not valid in the set\u001B[39;00m\n\u001B[1;32m      2\u001B[0m \u001B[38;5;28mprint\u001B[39m(mys)\n",
      "\u001B[0;31mTypeError\u001B[0m: set.pop() takes no arguments (1 given)"
     ]
    }
   ],
   "source": [
    "# mys.pop(\"iti\")  # not valid in the set\n",
    "print(mys)"
   ],
   "metadata": {
    "collapsed": false,
    "pycharm": {
     "name": "#%%\n"
    }
   }
  },
  {
   "cell_type": "code",
   "execution_count": null,
   "outputs": [],
   "source": [],
   "metadata": {
    "collapsed": false,
    "pycharm": {
     "name": "#%%\n"
    }
   }
  }
 ],
 "metadata": {
  "kernelspec": {
   "display_name": "Python 3",
   "language": "python",
   "name": "python3"
  },
  "language_info": {
   "codemirror_mode": {
    "name": "ipython",
    "version": 2
   },
   "file_extension": ".py",
   "mimetype": "text/x-python",
   "name": "python",
   "nbconvert_exporter": "python",
   "pygments_lexer": "ipython2",
   "version": "2.7.6"
  }
 },
 "nbformat": 4,
 "nbformat_minor": 0
}