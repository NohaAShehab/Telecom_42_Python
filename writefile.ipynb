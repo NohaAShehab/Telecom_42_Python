{
 "cells": [
  {
   "cell_type": "code",
   "execution_count": 1,
   "metadata": {
    "collapsed": true
   },
   "outputs": [
    {
     "name": "stdout",
     "output_type": "stream",
     "text": [
      "<_io.TextIOWrapper name='mycv.txt' mode='w' encoding='UTF-8'>\n"
     ]
    }
   ],
   "source": [
    "'''if you try to open the file for write, file not exists , will try to create it --->\n",
    "'''\n",
    "try:\n",
    "    wfile = open(\"mycv.txt\",\"w\")\n",
    "except Exception as e:\n",
    "    print(e)\n",
    "else:\n",
    "    print(wfile)\n"
   ]
  },
  {
   "cell_type": "code",
   "execution_count": 8,
   "outputs": [
    {
     "name": "stdout",
     "output_type": "stream",
     "text": [
      "<_io.TextIOWrapper name='mycv.txt' mode='w' encoding='UTF-8'>\n"
     ]
    }
   ],
   "source": [
    "'''if you try to open the file for write, file not exists , will try to create it\n",
    "if file exists --> remove data inside it, file is ready for writing starting from the begining of the file\n",
    "--->'''\n",
    "try:\n",
    "    # all data inside the file will be removed\n",
    "    wfile = open(\"mycv.txt\",\"w\")\n",
    "except Exception as e:\n",
    "    print(e)\n",
    "else:\n",
    "    print(wfile)\n",
    "    wfile.write(\"bla bla bla bla bla\\n\")\n",
    "    wfile.write(\"another line\\n\")\n",
    "    wfile.write(\"thank you\\n\")\n",
    "    name =  input(\"Plz enter your name \")\n",
    "    wfile.write(name)\n",
    "    wfile.close()"
   ],
   "metadata": {
    "collapsed": false,
    "pycharm": {
     "name": "#%%\n"
    }
   }
  },
  {
   "cell_type": "code",
   "execution_count": 10,
   "outputs": [
    {
     "name": "stdout",
     "output_type": "stream",
     "text": [
      "<_io.TextIOWrapper name='mycv.txt' mode='w' encoding='UTF-8'>\n"
     ]
    }
   ],
   "source": [
    "try:\n",
    "    # all data inside the file will be removed\n",
    "    wfile = open(\"mycv.txt\",\"w\")\n",
    "except Exception as e:\n",
    "    print(e)\n",
    "else:\n",
    "    print(wfile)\n",
    "    #write list or tuple content to the file\n",
    "    wfile.writelines([\"line1\\n\", \"line2\", \"line3\", \"Line4\"])\n",
    "\n",
    "    wfile.close()"
   ],
   "metadata": {
    "collapsed": false,
    "pycharm": {
     "name": "#%%\n"
    }
   }
  },
  {
   "cell_type": "code",
   "execution_count": 12,
   "outputs": [],
   "source": [
    "try:\n",
    "    # all data inside the file will be removed\n",
    "    wfile = open(\"mycv.txt\",\"w\")\n",
    "except Exception as e:\n",
    "    print(e)\n",
    "else:\n",
    "    wfile.write(\"Good morning Team\")\n",
    "    wfile.seek(7)\n",
    "    wfile.write(\"##########################\")\n",
    "    wfile.close()"
   ],
   "metadata": {
    "collapsed": false,
    "pycharm": {
     "name": "#%%\n"
    }
   }
  },
  {
   "cell_type": "code",
   "execution_count": null,
   "outputs": [],
   "source": [],
   "metadata": {
    "collapsed": false,
    "pycharm": {
     "name": "#%%\n"
    }
   }
  },
  {
   "cell_type": "code",
   "execution_count": null,
   "outputs": [],
   "source": [],
   "metadata": {
    "collapsed": false,
    "pycharm": {
     "name": "#%%\n"
    }
   }
  }
 ],
 "metadata": {
  "kernelspec": {
   "display_name": "Python 3",
   "language": "python",
   "name": "python3"
  },
  "language_info": {
   "codemirror_mode": {
    "name": "ipython",
    "version": 2
   },
   "file_extension": ".py",
   "mimetype": "text/x-python",
   "name": "python",
   "nbconvert_exporter": "python",
   "pygments_lexer": "ipython2",
   "version": "2.7.6"
  }
 },
 "nbformat": 4,
 "nbformat_minor": 0
}