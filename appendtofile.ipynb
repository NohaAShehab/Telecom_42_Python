{
 "cells": [
  {
   "cell_type": "code",
   "execution_count": 17,
   "metadata": {
    "collapsed": true
   },
   "outputs": [
    {
     "name": "stdout",
     "output_type": "stream",
     "text": [
      "<_io.TextIOWrapper name='newfile.txt' mode='a' encoding='UTF-8'>\n"
     ]
    }
   ],
   "source": [
    "'''if you try to open the file for append, file not exists , will try to create it\n",
    "if file exists -->append data on it\n",
    "--->'''\n",
    "try:\n",
    "    # all data inside the file will be removed\n",
    "    afile = open(\"newfile.txt\",\"a\")\n",
    "except Exception as e:\n",
    "    print(e)\n",
    "else:\n",
    "    print(afile)\n",
    "    afile.write(\"seeked example\\n\")\n",
    "    afile.seek(10)  # effect only with the mode write or append\n",
    "    afile.writelines([\" iti \", \" iti \"])\n"
   ]
  },
  {
   "cell_type": "code",
   "execution_count": null,
   "outputs": [],
   "source": [],
   "metadata": {
    "collapsed": false,
    "pycharm": {
     "name": "#%%\n"
    }
   }
  }
 ],
 "metadata": {
  "kernelspec": {
   "display_name": "Python 3",
   "language": "python",
   "name": "python3"
  },
  "language_info": {
   "codemirror_mode": {
    "name": "ipython",
    "version": 2
   },
   "file_extension": ".py",
   "mimetype": "text/x-python",
   "name": "python",
   "nbconvert_exporter": "python",
   "pygments_lexer": "ipython2",
   "version": "2.7.6"
  }
 },
 "nbformat": 4,
 "nbformat_minor": 0
}