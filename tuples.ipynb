{
 "cells": [
  {
   "cell_type": "code",
   "execution_count": 1,
   "metadata": {
    "collapsed": true
   },
   "outputs": [
    {
     "data": {
      "text/plain": "'tuple another type of sequences , ---> items can be accessed through the index , \\ntuple is immutable datatype \\n'"
     },
     "execution_count": 1,
     "metadata": {},
     "output_type": "execute_result"
    }
   ],
   "source": [
    "'''tuple another type of sequences , ---> items can be accessed through the index ,\n",
    "tuple is immutable datatype\n",
    "'''"
   ]
  },
  {
   "cell_type": "code",
   "execution_count": 2,
   "outputs": [
    {
     "name": "stdout",
     "output_type": "stream",
     "text": [
      "<class 'tuple'>\n",
      "<class 'tuple'>\n"
     ]
    }
   ],
   "source": [
    "'1- to define a tuple'\n",
    "t = ()\n",
    "myt = tuple([])\n",
    "print(type(t))\n",
    "print(type(myt))"
   ],
   "metadata": {
    "collapsed": false,
    "pycharm": {
     "name": "#%%\n"
    }
   }
  },
  {
   "cell_type": "code",
   "execution_count": 3,
   "outputs": [
    {
     "name": "stdout",
     "output_type": "stream",
     "text": [
      "('Ahmed', 'Python', 42, False, ('python', 'postgres', 'java'))\n"
     ]
    }
   ],
   "source": [
    "'2- tuple can hold different values with different datatypes even another lists , tuples'\n",
    "courses = (\"python\", \"postgres\", \"java\")\n",
    "myt = (\"Ahmed\", \"Python\", 42, False, courses)\n",
    "print(myt)"
   ],
   "metadata": {
    "collapsed": false,
    "pycharm": {
     "name": "#%%\n"
    }
   }
  },
  {
   "cell_type": "code",
   "execution_count": 9,
   "outputs": [
    {
     "name": "stdout",
     "output_type": "stream",
     "text": [
      "('python', 'postgres', 'java')\n",
      "postgres\n"
     ]
    }
   ],
   "source": [
    "'3 - typle items can be accessed through index (note index start from 0)'\n",
    "print(myt[4])\n",
    "print(myt[4][1])"
   ],
   "metadata": {
    "collapsed": false,
    "pycharm": {
     "name": "#%%\n"
    }
   }
  },
  {
   "cell_type": "code",
   "execution_count": 5,
   "outputs": [
    {
     "name": "stdout",
     "output_type": "stream",
     "text": [
      "5\n"
     ]
    }
   ],
   "source": [
    "'4 - get length of the tuple'\n",
    "print(len(myt))"
   ],
   "metadata": {
    "collapsed": false,
    "pycharm": {
     "name": "#%%\n"
    }
   }
  },
  {
   "cell_type": "code",
   "execution_count": 10,
   "outputs": [
    {
     "data": {
      "text/plain": "'tuple is immutable datatype ---> cannot be updated once created, You cannot update existing item , add item or pop item or remove or insert or sort  '"
     },
     "execution_count": 10,
     "metadata": {},
     "output_type": "execute_result"
    }
   ],
   "source": [
    "'''tuple is immutable datatype ---> cannot be updated once created, You cannot update existing item , add item or pop item or remove or insert or sort  '''\n",
    "#myt[1]= \"ITI\"  # error"
   ],
   "metadata": {
    "collapsed": false,
    "pycharm": {
     "name": "#%%\n"
    }
   }
  },
  {
   "cell_type": "code",
   "execution_count": 11,
   "outputs": [
    {
     "name": "stdout",
     "output_type": "stream",
     "text": [
      "(2, 4, 5, 6, 'a', 'b', 'c')\n"
     ]
    }
   ],
   "source": [
    "'5- add two tuples, return new tuple contains the elements of the 2 lists together '\n",
    "t1 = (2,4,5,6)\n",
    "t2 = (\"a\",\"b\", \"c\")\n",
    "t3 = t1 + t2\n",
    "print(t3)"
   ],
   "metadata": {
    "collapsed": false,
    "pycharm": {
     "name": "#%%\n"
    }
   }
  },
  {
   "cell_type": "code",
   "execution_count": 12,
   "outputs": [
    {
     "name": "stdout",
     "output_type": "stream",
     "text": [
      "True\n"
     ]
    }
   ],
   "source": [
    "'6- check if the list contains certain value '\n",
    "names = (\"Ayman\", \"Ahmed\", \"Omar\", \"Mostafa\", \"Asmaa\", \"Salma\", \"Nora\", \"Doaa\",\"Mai\", \"Aya\")\n",
    "print(\"Omar\" in names)"
   ],
   "metadata": {
    "collapsed": false,
    "pycharm": {
     "name": "#%%\n"
    }
   }
  },
  {
   "cell_type": "code",
   "execution_count": 13,
   "outputs": [
    {
     "name": "stdout",
     "output_type": "stream",
     "text": [
      "Ayman\n",
      "Ahmed\n",
      "Omar\n",
      "Mostafa\n",
      "Asmaa\n",
      "Salma\n",
      "Nora\n",
      "Doaa\n",
      "Mai\n",
      "Aya\n"
     ]
    }
   ],
   "source": [
    "'7- loop over the names '\n",
    "for std in names:\n",
    "    print(std)"
   ],
   "metadata": {
    "collapsed": false,
    "pycharm": {
     "name": "#%%\n"
    }
   }
  },
  {
   "cell_type": "code",
   "execution_count": 14,
   "outputs": [
    {
     "name": "stdout",
     "output_type": "stream",
     "text": [
      "bye\n"
     ]
    }
   ],
   "source": [
    "\"8- empty tuple is falsy value\"\n",
    "t = ()\n",
    "if t:\n",
    "    print(\"hii\")\n",
    "else:\n",
    "    print(\"bye\")"
   ],
   "metadata": {
    "collapsed": false,
    "pycharm": {
     "name": "#%%\n"
    }
   }
  },
  {
   "cell_type": "code",
   "execution_count": 18,
   "outputs": [
    {
     "name": "stdout",
     "output_type": "stream",
     "text": [
      "<class 'tuple'>\n"
     ]
    }
   ],
   "source": [
    "'9-create tuple of one item'\n",
    "oneitem = (\"python\",)\n",
    "print(type(oneitem))"
   ],
   "metadata": {
    "collapsed": false,
    "pycharm": {
     "name": "#%%\n"
    }
   }
  },
  {
   "cell_type": "code",
   "execution_count": 19,
   "outputs": [
    {
     "name": "stdout",
     "output_type": "stream",
     "text": [
      "<class 'tuple'>\n",
      "<class 'list'>\n"
     ]
    }
   ],
   "source": [
    "'10- casting between datastructures, tuple can be casted to a list and vise versa '\n",
    "x = \"10\"\n",
    "x = int(x)  #cast the string into int\n",
    "\n",
    "t = (4,6,7,8)\n",
    "print(type(t))\n",
    "t = list(t)\n",
    "print(type(t))"
   ],
   "metadata": {
    "collapsed": false,
    "pycharm": {
     "name": "#%%\n"
    }
   }
  },
  {
   "cell_type": "code",
   "execution_count": 21,
   "outputs": [
    {
     "ename": "TypeError",
     "evalue": "'<' not supported between instances of 'str' and 'int'",
     "output_type": "error",
     "traceback": [
      "\u001B[0;31m---------------------------------------------------------------------------\u001B[0m",
      "\u001B[0;31mTypeError\u001B[0m                                 Traceback (most recent call last)",
      "Input \u001B[0;32mIn [21]\u001B[0m, in \u001B[0;36m<cell line: 2>\u001B[0;34m()\u001B[0m\n\u001B[1;32m      1\u001B[0m t \u001B[38;5;241m=\u001B[39m (\u001B[38;5;241m5\u001B[39m,\u001B[38;5;241m70\u001B[39m,\u001B[38;5;241m99\u001B[39m,\u001B[38;5;241m100\u001B[39m,\u001B[38;5;124m\"\u001B[39m\u001B[38;5;124m44\u001B[39m\u001B[38;5;124m\"\u001B[39m)\n\u001B[0;32m----> 2\u001B[0m \u001B[38;5;28mprint\u001B[39m(\u001B[38;5;28;43mmin\u001B[39;49m\u001B[43m(\u001B[49m\u001B[43mt\u001B[49m\u001B[43m)\u001B[49m)\n\u001B[1;32m      3\u001B[0m \u001B[38;5;28mprint\u001B[39m(\u001B[38;5;28mmax\u001B[39m(t))\n",
      "\u001B[0;31mTypeError\u001B[0m: '<' not supported between instances of 'str' and 'int'"
     ]
    }
   ],
   "source": [
    "t = (5,70,99,100,\"44\")\n",
    "print(min(t))\n",
    "print(max(t))"
   ],
   "metadata": {
    "collapsed": false,
    "pycharm": {
     "name": "#%%\n"
    }
   }
  },
  {
   "cell_type": "code",
   "execution_count": 22,
   "outputs": [
    {
     "name": "stdout",
     "output_type": "stream",
     "text": [
      "A\n",
      "z\n"
     ]
    }
   ],
   "source": [
    "t = (\"A\",\"a\",\"b\",\"z\",\"s\")\n",
    "print(min(t))\n",
    "print(max(t))"
   ],
   "metadata": {
    "collapsed": false,
    "pycharm": {
     "name": "#%%\n"
    }
   }
  },
  {
   "cell_type": "code",
   "execution_count": null,
   "outputs": [],
   "source": [],
   "metadata": {
    "collapsed": false,
    "pycharm": {
     "name": "#%%\n"
    }
   }
  }
 ],
 "metadata": {
  "kernelspec": {
   "display_name": "Python 3",
   "language": "python",
   "name": "python3"
  },
  "language_info": {
   "codemirror_mode": {
    "name": "ipython",
    "version": 2
   },
   "file_extension": ".py",
   "mimetype": "text/x-python",
   "name": "python",
   "nbconvert_exporter": "python",
   "pygments_lexer": "ipython2",
   "version": "2.7.6"
  }
 },
 "nbformat": 4,
 "nbformat_minor": 0
}